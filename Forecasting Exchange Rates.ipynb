{
 "cells": [
  {
   "cell_type": "code",
   "execution_count": 1,
   "id": "cf4332a6",
   "metadata": {},
   "outputs": [],
   "source": [
    "import numpy as np\n",
    "import pandas as pd\n",
    "import matplotlib.pyplot as plt\n",
    "import seaborn as sns"
   ]
  },
  {
   "cell_type": "code",
   "execution_count": 2,
   "id": "193cd67a",
   "metadata": {},
   "outputs": [],
   "source": [
    "data = pd.read_csv(\"Ukraine/Ukrain_Dataset .csv\")"
   ]
  },
  {
   "cell_type": "code",
   "execution_count": 3,
   "id": "93213a42",
   "metadata": {},
   "outputs": [
    {
     "data": {
      "text/html": [
       "<div>\n",
       "<style scoped>\n",
       "    .dataframe tbody tr th:only-of-type {\n",
       "        vertical-align: middle;\n",
       "    }\n",
       "\n",
       "    .dataframe tbody tr th {\n",
       "        vertical-align: top;\n",
       "    }\n",
       "\n",
       "    .dataframe thead th {\n",
       "        text-align: right;\n",
       "    }\n",
       "</style>\n",
       "<table border=\"1\" class=\"dataframe\">\n",
       "  <thead>\n",
       "    <tr style=\"text-align: right;\">\n",
       "      <th></th>\n",
       "      <th>YEAR</th>\n",
       "      <th>Balance Of Payment</th>\n",
       "      <th>GDP</th>\n",
       "      <th>Political Stability</th>\n",
       "      <th>US Inflation</th>\n",
       "      <th>Ukraine Inflation</th>\n",
       "      <th>Real Interest Rate</th>\n",
       "      <th>Exchange Rate</th>\n",
       "    </tr>\n",
       "  </thead>\n",
       "  <tbody>\n",
       "    <tr>\n",
       "      <th>0</th>\n",
       "      <td>1996</td>\n",
       "      <td>-1184000000</td>\n",
       "      <td>4.460000e+10</td>\n",
       "      <td>-0.150</td>\n",
       "      <td>2.931204</td>\n",
       "      <td>80.32550</td>\n",
       "      <td>8.268450</td>\n",
       "      <td>1.829469</td>\n",
       "    </tr>\n",
       "    <tr>\n",
       "      <th>1</th>\n",
       "      <td>1997</td>\n",
       "      <td>-1335000000</td>\n",
       "      <td>5.020000e+10</td>\n",
       "      <td>-0.135</td>\n",
       "      <td>2.337690</td>\n",
       "      <td>15.94060</td>\n",
       "      <td>26.291076</td>\n",
       "      <td>1.861658</td>\n",
       "    </tr>\n",
       "    <tr>\n",
       "      <th>2</th>\n",
       "      <td>1998</td>\n",
       "      <td>-1296000000</td>\n",
       "      <td>4.190000e+10</td>\n",
       "      <td>-0.120</td>\n",
       "      <td>1.552279</td>\n",
       "      <td>10.57716</td>\n",
       "      <td>37.928652</td>\n",
       "      <td>2.449542</td>\n",
       "    </tr>\n",
       "    <tr>\n",
       "      <th>3</th>\n",
       "      <td>1999</td>\n",
       "      <td>1658000000</td>\n",
       "      <td>3.160000e+10</td>\n",
       "      <td>-0.265</td>\n",
       "      <td>2.188027</td>\n",
       "      <td>22.68367</td>\n",
       "      <td>21.626836</td>\n",
       "      <td>4.130442</td>\n",
       "    </tr>\n",
       "  </tbody>\n",
       "</table>\n",
       "</div>"
      ],
      "text/plain": [
       "   YEAR  Balance Of Payment           GDP  Political Stability  US Inflation  \\\n",
       "0  1996         -1184000000  4.460000e+10               -0.150      2.931204   \n",
       "1  1997         -1335000000  5.020000e+10               -0.135      2.337690   \n",
       "2  1998         -1296000000  4.190000e+10               -0.120      1.552279   \n",
       "3  1999          1658000000  3.160000e+10               -0.265      2.188027   \n",
       "\n",
       "   Ukraine Inflation  Real Interest Rate  Exchange Rate  \n",
       "0           80.32550            8.268450       1.829469  \n",
       "1           15.94060           26.291076       1.861658  \n",
       "2           10.57716           37.928652       2.449542  \n",
       "3           22.68367           21.626836       4.130442  "
      ]
     },
     "execution_count": 3,
     "metadata": {},
     "output_type": "execute_result"
    }
   ],
   "source": [
    "data.head(4)"
   ]
  },
  {
   "cell_type": "code",
   "execution_count": 4,
   "id": "9e402369",
   "metadata": {},
   "outputs": [
    {
     "data": {
      "text/html": [
       "<div>\n",
       "<style scoped>\n",
       "    .dataframe tbody tr th:only-of-type {\n",
       "        vertical-align: middle;\n",
       "    }\n",
       "\n",
       "    .dataframe tbody tr th {\n",
       "        vertical-align: top;\n",
       "    }\n",
       "\n",
       "    .dataframe thead th {\n",
       "        text-align: right;\n",
       "    }\n",
       "</style>\n",
       "<table border=\"1\" class=\"dataframe\">\n",
       "  <thead>\n",
       "    <tr style=\"text-align: right;\">\n",
       "      <th></th>\n",
       "      <th>YEAR</th>\n",
       "      <th>Balance Of Payment</th>\n",
       "      <th>GDP</th>\n",
       "      <th>Political Stability</th>\n",
       "      <th>US Inflation</th>\n",
       "      <th>Ukraine Inflation</th>\n",
       "      <th>Real Interest Rate</th>\n",
       "      <th>Exchange Rate</th>\n",
       "    </tr>\n",
       "  </thead>\n",
       "  <tbody>\n",
       "    <tr>\n",
       "      <th>count</th>\n",
       "      <td>26.000000</td>\n",
       "      <td>2.600000e+01</td>\n",
       "      <td>2.600000e+01</td>\n",
       "      <td>25.000000</td>\n",
       "      <td>26.000000</td>\n",
       "      <td>25.000000</td>\n",
       "      <td>26.000000</td>\n",
       "      <td>26.000000</td>\n",
       "    </tr>\n",
       "    <tr>\n",
       "      <th>mean</th>\n",
       "      <td>2008.500000</td>\n",
       "      <td>-2.395462e+09</td>\n",
       "      <td>1.084154e+11</td>\n",
       "      <td>-0.643000</td>\n",
       "      <td>2.244244</td>\n",
       "      <td>15.583792</td>\n",
       "      <td>6.132752</td>\n",
       "      <td>11.169289</td>\n",
       "    </tr>\n",
       "    <tr>\n",
       "      <th>std</th>\n",
       "      <td>7.648529</td>\n",
       "      <td>5.927881e+09</td>\n",
       "      <td>5.564292e+10</td>\n",
       "      <td>0.738491</td>\n",
       "      <td>1.098151</td>\n",
       "      <td>16.942453</td>\n",
       "      <td>11.882108</td>\n",
       "      <td>9.397043</td>\n",
       "    </tr>\n",
       "    <tr>\n",
       "      <th>min</th>\n",
       "      <td>1996.000000</td>\n",
       "      <td>-1.651800e+10</td>\n",
       "      <td>3.160000e+10</td>\n",
       "      <td>-2.020000</td>\n",
       "      <td>-0.355550</td>\n",
       "      <td>-0.238950</td>\n",
       "      <td>-12.282929</td>\n",
       "      <td>1.829469</td>\n",
       "    </tr>\n",
       "    <tr>\n",
       "      <th>25%</th>\n",
       "      <td>2002.250000</td>\n",
       "      <td>-4.478000e+09</td>\n",
       "      <td>5.065000e+10</td>\n",
       "      <td>-1.160000</td>\n",
       "      <td>1.595080</td>\n",
       "      <td>7.955725</td>\n",
       "      <td>0.593304</td>\n",
       "      <td>5.160352</td>\n",
       "    </tr>\n",
       "    <tr>\n",
       "      <th>50%</th>\n",
       "      <td>2008.500000</td>\n",
       "      <td>-1.677500e+09</td>\n",
       "      <td>1.120000e+11</td>\n",
       "      <td>-0.300000</td>\n",
       "      <td>2.229061</td>\n",
       "      <td>11.958810</td>\n",
       "      <td>3.374727</td>\n",
       "      <td>6.615737</td>\n",
       "    </tr>\n",
       "    <tr>\n",
       "      <th>75%</th>\n",
       "      <td>2014.750000</td>\n",
       "      <td>1.579000e+09</td>\n",
       "      <td>1.527500e+11</td>\n",
       "      <td>-0.120000</td>\n",
       "      <td>2.911571</td>\n",
       "      <td>15.881190</td>\n",
       "      <td>10.924507</td>\n",
       "      <td>19.355188</td>\n",
       "    </tr>\n",
       "    <tr>\n",
       "      <th>max</th>\n",
       "      <td>2021.000000</td>\n",
       "      <td>6.911000e+09</td>\n",
       "      <td>2.000000e+11</td>\n",
       "      <td>0.170000</td>\n",
       "      <td>4.697859</td>\n",
       "      <td>80.325500</td>\n",
       "      <td>37.928652</td>\n",
       "      <td>27.286189</td>\n",
       "    </tr>\n",
       "  </tbody>\n",
       "</table>\n",
       "</div>"
      ],
      "text/plain": [
       "              YEAR  Balance Of Payment           GDP  Political Stability  \\\n",
       "count    26.000000        2.600000e+01  2.600000e+01            25.000000   \n",
       "mean   2008.500000       -2.395462e+09  1.084154e+11            -0.643000   \n",
       "std       7.648529        5.927881e+09  5.564292e+10             0.738491   \n",
       "min    1996.000000       -1.651800e+10  3.160000e+10            -2.020000   \n",
       "25%    2002.250000       -4.478000e+09  5.065000e+10            -1.160000   \n",
       "50%    2008.500000       -1.677500e+09  1.120000e+11            -0.300000   \n",
       "75%    2014.750000        1.579000e+09  1.527500e+11            -0.120000   \n",
       "max    2021.000000        6.911000e+09  2.000000e+11             0.170000   \n",
       "\n",
       "       US Inflation  Ukraine Inflation  Real Interest Rate  Exchange Rate  \n",
       "count     26.000000          25.000000           26.000000      26.000000  \n",
       "mean       2.244244          15.583792            6.132752      11.169289  \n",
       "std        1.098151          16.942453           11.882108       9.397043  \n",
       "min       -0.355550          -0.238950          -12.282929       1.829469  \n",
       "25%        1.595080           7.955725            0.593304       5.160352  \n",
       "50%        2.229061          11.958810            3.374727       6.615737  \n",
       "75%        2.911571          15.881190           10.924507      19.355188  \n",
       "max        4.697859          80.325500           37.928652      27.286189  "
      ]
     },
     "execution_count": 4,
     "metadata": {},
     "output_type": "execute_result"
    }
   ],
   "source": [
    "data.describe()"
   ]
  },
  {
   "cell_type": "code",
   "execution_count": 5,
   "id": "0b76fa70",
   "metadata": {},
   "outputs": [],
   "source": [
    "data['Differential Inflation'] = data['US Inflation'] - data['Ukraine Inflation']"
   ]
  },
  {
   "cell_type": "code",
   "execution_count": 6,
   "id": "7c5a7196",
   "metadata": {},
   "outputs": [],
   "source": [
    "data.drop(['US Inflation', 'Ukraine Inflation'], axis = 1, inplace= True)"
   ]
  },
  {
   "cell_type": "code",
   "execution_count": 7,
   "id": "7e82bb39",
   "metadata": {},
   "outputs": [
    {
     "data": {
      "text/html": [
       "<div>\n",
       "<style scoped>\n",
       "    .dataframe tbody tr th:only-of-type {\n",
       "        vertical-align: middle;\n",
       "    }\n",
       "\n",
       "    .dataframe tbody tr th {\n",
       "        vertical-align: top;\n",
       "    }\n",
       "\n",
       "    .dataframe thead th {\n",
       "        text-align: right;\n",
       "    }\n",
       "</style>\n",
       "<table border=\"1\" class=\"dataframe\">\n",
       "  <thead>\n",
       "    <tr style=\"text-align: right;\">\n",
       "      <th></th>\n",
       "      <th>YEAR</th>\n",
       "      <th>Balance Of Payment</th>\n",
       "      <th>GDP</th>\n",
       "      <th>Political Stability</th>\n",
       "      <th>Real Interest Rate</th>\n",
       "      <th>Exchange Rate</th>\n",
       "      <th>Differential Inflation</th>\n",
       "    </tr>\n",
       "  </thead>\n",
       "  <tbody>\n",
       "    <tr>\n",
       "      <th>0</th>\n",
       "      <td>1996</td>\n",
       "      <td>-1184000000</td>\n",
       "      <td>4.460000e+10</td>\n",
       "      <td>-0.150</td>\n",
       "      <td>8.268450</td>\n",
       "      <td>1.829469</td>\n",
       "      <td>-77.394296</td>\n",
       "    </tr>\n",
       "    <tr>\n",
       "      <th>1</th>\n",
       "      <td>1997</td>\n",
       "      <td>-1335000000</td>\n",
       "      <td>5.020000e+10</td>\n",
       "      <td>-0.135</td>\n",
       "      <td>26.291076</td>\n",
       "      <td>1.861658</td>\n",
       "      <td>-13.602910</td>\n",
       "    </tr>\n",
       "    <tr>\n",
       "      <th>2</th>\n",
       "      <td>1998</td>\n",
       "      <td>-1296000000</td>\n",
       "      <td>4.190000e+10</td>\n",
       "      <td>-0.120</td>\n",
       "      <td>37.928652</td>\n",
       "      <td>2.449542</td>\n",
       "      <td>-9.024881</td>\n",
       "    </tr>\n",
       "    <tr>\n",
       "      <th>3</th>\n",
       "      <td>1999</td>\n",
       "      <td>1658000000</td>\n",
       "      <td>3.160000e+10</td>\n",
       "      <td>-0.265</td>\n",
       "      <td>21.626836</td>\n",
       "      <td>4.130442</td>\n",
       "      <td>-20.495643</td>\n",
       "    </tr>\n",
       "    <tr>\n",
       "      <th>4</th>\n",
       "      <td>2000</td>\n",
       "      <td>1342000000</td>\n",
       "      <td>3.240000e+10</td>\n",
       "      <td>-0.410</td>\n",
       "      <td>11.001457</td>\n",
       "      <td>5.440233</td>\n",
       "      <td>-24.826243</td>\n",
       "    </tr>\n",
       "  </tbody>\n",
       "</table>\n",
       "</div>"
      ],
      "text/plain": [
       "   YEAR  Balance Of Payment           GDP  Political Stability  \\\n",
       "0  1996         -1184000000  4.460000e+10               -0.150   \n",
       "1  1997         -1335000000  5.020000e+10               -0.135   \n",
       "2  1998         -1296000000  4.190000e+10               -0.120   \n",
       "3  1999          1658000000  3.160000e+10               -0.265   \n",
       "4  2000          1342000000  3.240000e+10               -0.410   \n",
       "\n",
       "   Real Interest Rate  Exchange Rate  Differential Inflation  \n",
       "0            8.268450       1.829469              -77.394296  \n",
       "1           26.291076       1.861658              -13.602910  \n",
       "2           37.928652       2.449542               -9.024881  \n",
       "3           21.626836       4.130442              -20.495643  \n",
       "4           11.001457       5.440233              -24.826243  "
      ]
     },
     "execution_count": 7,
     "metadata": {},
     "output_type": "execute_result"
    }
   ],
   "source": [
    "data.head()"
   ]
  },
  {
   "cell_type": "code",
   "execution_count": 8,
   "id": "81f13d9c",
   "metadata": {
    "scrolled": true
   },
   "outputs": [
    {
     "data": {
      "text/plain": [
       "<AxesSubplot:>"
      ]
     },
     "execution_count": 8,
     "metadata": {},
     "output_type": "execute_result"
    },
    {
     "data": {
      "image/png": "[encoded data removed]",
      "text/plain": [
       "<Figure size 432x288 with 2 Axes>"
      ]
     },
     "metadata": {
      "needs_background": "light"
     },
     "output_type": "display_data"
    }
   ],
   "source": [
    "sns.heatmap(data.corr(),annot=True)"
   ]
  },
  {
   "cell_type": "code",
   "execution_count": 9,
   "id": "48d4c119",
   "metadata": {},
   "outputs": [
    {
     "data": {
      "text/plain": [
       "<seaborn.axisgrid.PairGrid at 0x1aab7617160>"
      ]
     },
     "execution_count": 9,
     "metadata": {},
     "output_type": "execute_result"
    },
    {
     "data": {
      "image/png": "[encoded data removed]",
      "text/plain": [
       "<Figure size 1260x1260 with 56 Axes>"
      ]
     },
     "metadata": {
      "needs_background": "light"
     },
     "output_type": "display_data"
    }
   ],
   "source": [
    "sns.pairplot(data)"
   ]
  },
  {
   "cell_type": "code",
   "execution_count": 10,
   "id": "87e7a67f",
   "metadata": {},
   "outputs": [
    {
     "data": {
      "text/html": [
       "<div>\n",
       "<style scoped>\n",
       "    .dataframe tbody tr th:only-of-type {\n",
       "        vertical-align: middle;\n",
       "    }\n",
       "\n",
       "    .dataframe tbody tr th {\n",
       "        vertical-align: top;\n",
       "    }\n",
       "\n",
       "    .dataframe thead th {\n",
       "        text-align: right;\n",
       "    }\n",
       "</style>\n",
       "<table border=\"1\" class=\"dataframe\">\n",
       "  <thead>\n",
       "    <tr style=\"text-align: right;\">\n",
       "      <th></th>\n",
       "      <th>YEAR</th>\n",
       "      <th>Balance Of Payment</th>\n",
       "      <th>GDP</th>\n",
       "      <th>Political Stability</th>\n",
       "      <th>Real Interest Rate</th>\n",
       "      <th>Exchange Rate</th>\n",
       "      <th>Differential Inflation</th>\n",
       "    </tr>\n",
       "  </thead>\n",
       "  <tbody>\n",
       "    <tr>\n",
       "      <th>0</th>\n",
       "      <td>1996</td>\n",
       "      <td>-1184000000</td>\n",
       "      <td>4.460000e+10</td>\n",
       "      <td>-0.150</td>\n",
       "      <td>8.268450</td>\n",
       "      <td>1.829469</td>\n",
       "      <td>-77.394296</td>\n",
       "    </tr>\n",
       "    <tr>\n",
       "      <th>1</th>\n",
       "      <td>1997</td>\n",
       "      <td>-1335000000</td>\n",
       "      <td>5.020000e+10</td>\n",
       "      <td>-0.135</td>\n",
       "      <td>26.291076</td>\n",
       "      <td>1.861658</td>\n",
       "      <td>-13.602910</td>\n",
       "    </tr>\n",
       "    <tr>\n",
       "      <th>2</th>\n",
       "      <td>1998</td>\n",
       "      <td>-1296000000</td>\n",
       "      <td>4.190000e+10</td>\n",
       "      <td>-0.120</td>\n",
       "      <td>37.928652</td>\n",
       "      <td>2.449542</td>\n",
       "      <td>-9.024881</td>\n",
       "    </tr>\n",
       "    <tr>\n",
       "      <th>3</th>\n",
       "      <td>1999</td>\n",
       "      <td>1658000000</td>\n",
       "      <td>3.160000e+10</td>\n",
       "      <td>-0.265</td>\n",
       "      <td>21.626836</td>\n",
       "      <td>4.130442</td>\n",
       "      <td>-20.495643</td>\n",
       "    </tr>\n",
       "    <tr>\n",
       "      <th>4</th>\n",
       "      <td>2000</td>\n",
       "      <td>1342000000</td>\n",
       "      <td>3.240000e+10</td>\n",
       "      <td>-0.410</td>\n",
       "      <td>11.001457</td>\n",
       "      <td>5.440233</td>\n",
       "      <td>-24.826243</td>\n",
       "    </tr>\n",
       "  </tbody>\n",
       "</table>\n",
       "</div>"
      ],
      "text/plain": [
       "   YEAR  Balance Of Payment           GDP  Political Stability  \\\n",
       "0  1996         -1184000000  4.460000e+10               -0.150   \n",
       "1  1997         -1335000000  5.020000e+10               -0.135   \n",
       "2  1998         -1296000000  4.190000e+10               -0.120   \n",
       "3  1999          1658000000  3.160000e+10               -0.265   \n",
       "4  2000          1342000000  3.240000e+10               -0.410   \n",
       "\n",
       "   Real Interest Rate  Exchange Rate  Differential Inflation  \n",
       "0            8.268450       1.829469              -77.394296  \n",
       "1           26.291076       1.861658              -13.602910  \n",
       "2           37.928652       2.449542               -9.024881  \n",
       "3           21.626836       4.130442              -20.495643  \n",
       "4           11.001457       5.440233              -24.826243  "
      ]
     },
     "execution_count": 10,
     "metadata": {},
     "output_type": "execute_result"
    }
   ],
   "source": [
    "data.head()"
   ]
  },
  {
   "cell_type": "markdown",
   "id": "177385b3",
   "metadata": {},
   "source": [
    "## Forecasting Using Model-1"
   ]
  },
  {
   "cell_type": "code",
   "execution_count": 11,
   "id": "1a8b01a8",
   "metadata": {},
   "outputs": [],
   "source": [
    "import statsmodels.api as sm"
   ]
  },
  {
   "cell_type": "code",
   "execution_count": 12,
   "id": "59d9e22a",
   "metadata": {},
   "outputs": [],
   "source": [
    "X=data[['Differential Inflation','Political Stability']][:25]"
   ]
  },
  {
   "cell_type": "code",
   "execution_count": 13,
   "id": "4cb14950",
   "metadata": {},
   "outputs": [],
   "source": [
    "y = data[['Exchange Rate']][:25]"
   ]
  },
  {
   "cell_type": "code",
   "execution_count": 14,
   "id": "837a8d71",
   "metadata": {},
   "outputs": [
    {
     "data": {
      "text/html": [
       "<div>\n",
       "<style scoped>\n",
       "    .dataframe tbody tr th:only-of-type {\n",
       "        vertical-align: middle;\n",
       "    }\n",
       "\n",
       "    .dataframe tbody tr th {\n",
       "        vertical-align: top;\n",
       "    }\n",
       "\n",
       "    .dataframe thead th {\n",
       "        text-align: right;\n",
       "    }\n",
       "</style>\n",
       "<table border=\"1\" class=\"dataframe\">\n",
       "  <thead>\n",
       "    <tr style=\"text-align: right;\">\n",
       "      <th></th>\n",
       "      <th>Differential Inflation</th>\n",
       "      <th>Political Stability</th>\n",
       "    </tr>\n",
       "  </thead>\n",
       "  <tbody>\n",
       "    <tr>\n",
       "      <th>0</th>\n",
       "      <td>-77.394296</td>\n",
       "      <td>-0.150</td>\n",
       "    </tr>\n",
       "    <tr>\n",
       "      <th>1</th>\n",
       "      <td>-13.602910</td>\n",
       "      <td>-0.135</td>\n",
       "    </tr>\n",
       "    <tr>\n",
       "      <th>2</th>\n",
       "      <td>-9.024881</td>\n",
       "      <td>-0.120</td>\n",
       "    </tr>\n",
       "    <tr>\n",
       "      <th>3</th>\n",
       "      <td>-20.495643</td>\n",
       "      <td>-0.265</td>\n",
       "    </tr>\n",
       "    <tr>\n",
       "      <th>4</th>\n",
       "      <td>-24.826243</td>\n",
       "      <td>-0.410</td>\n",
       "    </tr>\n",
       "    <tr>\n",
       "      <th>5</th>\n",
       "      <td>-9.132639</td>\n",
       "      <td>-0.355</td>\n",
       "    </tr>\n",
       "    <tr>\n",
       "      <th>6</th>\n",
       "      <td>0.828611</td>\n",
       "      <td>-0.300</td>\n",
       "    </tr>\n",
       "    <tr>\n",
       "      <th>7</th>\n",
       "      <td>-2.909583</td>\n",
       "      <td>-0.360</td>\n",
       "    </tr>\n",
       "    <tr>\n",
       "      <th>8</th>\n",
       "      <td>-6.370831</td>\n",
       "      <td>-0.470</td>\n",
       "    </tr>\n",
       "    <tr>\n",
       "      <th>9</th>\n",
       "      <td>-10.176833</td>\n",
       "      <td>-0.290</td>\n",
       "    </tr>\n",
       "    <tr>\n",
       "      <th>10</th>\n",
       "      <td>-5.826581</td>\n",
       "      <td>-0.040</td>\n",
       "    </tr>\n",
       "    <tr>\n",
       "      <th>11</th>\n",
       "      <td>-9.986108</td>\n",
       "      <td>0.170</td>\n",
       "    </tr>\n",
       "    <tr>\n",
       "      <th>12</th>\n",
       "      <td>-21.387360</td>\n",
       "      <td>0.040</td>\n",
       "    </tr>\n",
       "    <tr>\n",
       "      <th>13</th>\n",
       "      <td>-16.236740</td>\n",
       "      <td>-0.300</td>\n",
       "    </tr>\n",
       "    <tr>\n",
       "      <th>14</th>\n",
       "      <td>-7.732888</td>\n",
       "      <td>0.010</td>\n",
       "    </tr>\n",
       "    <tr>\n",
       "      <th>15</th>\n",
       "      <td>-4.798883</td>\n",
       "      <td>-0.070</td>\n",
       "    </tr>\n",
       "    <tr>\n",
       "      <th>16</th>\n",
       "      <td>1.500609</td>\n",
       "      <td>-0.090</td>\n",
       "    </tr>\n",
       "    <tr>\n",
       "      <th>17</th>\n",
       "      <td>1.703783</td>\n",
       "      <td>-0.780</td>\n",
       "    </tr>\n",
       "    <tr>\n",
       "      <th>18</th>\n",
       "      <td>-10.449637</td>\n",
       "      <td>-2.020</td>\n",
       "    </tr>\n",
       "    <tr>\n",
       "      <th>19</th>\n",
       "      <td>-48.581233</td>\n",
       "      <td>-1.960</td>\n",
       "    </tr>\n",
       "    <tr>\n",
       "      <th>20</th>\n",
       "      <td>-12.651127</td>\n",
       "      <td>-1.860</td>\n",
       "    </tr>\n",
       "    <tr>\n",
       "      <th>21</th>\n",
       "      <td>-12.308210</td>\n",
       "      <td>-1.870</td>\n",
       "    </tr>\n",
       "    <tr>\n",
       "      <th>22</th>\n",
       "      <td>-8.509277</td>\n",
       "      <td>-1.870</td>\n",
       "    </tr>\n",
       "    <tr>\n",
       "      <th>23</th>\n",
       "      <td>-6.074507</td>\n",
       "      <td>-1.420</td>\n",
       "    </tr>\n",
       "    <tr>\n",
       "      <th>24</th>\n",
       "      <td>-1.498908</td>\n",
       "      <td>-1.160</td>\n",
       "    </tr>\n",
       "  </tbody>\n",
       "</table>\n",
       "</div>"
      ],
      "text/plain": [
       "    Differential Inflation  Political Stability\n",
       "0               -77.394296               -0.150\n",
       "1               -13.602910               -0.135\n",
       "2                -9.024881               -0.120\n",
       "3               -20.495643               -0.265\n",
       "4               -24.826243               -0.410\n",
       "5                -9.132639               -0.355\n",
       "6                 0.828611               -0.300\n",
       "7                -2.909583               -0.360\n",
       "8                -6.370831               -0.470\n",
       "9               -10.176833               -0.290\n",
       "10               -5.826581               -0.040\n",
       "11               -9.986108                0.170\n",
       "12              -21.387360                0.040\n",
       "13              -16.236740               -0.300\n",
       "14               -7.732888                0.010\n",
       "15               -4.798883               -0.070\n",
       "16                1.500609               -0.090\n",
       "17                1.703783               -0.780\n",
       "18              -10.449637               -2.020\n",
       "19              -48.581233               -1.960\n",
       "20              -12.651127               -1.860\n",
       "21              -12.308210               -1.870\n",
       "22               -8.509277               -1.870\n",
       "23               -6.074507               -1.420\n",
       "24               -1.498908               -1.160"
      ]
     },
     "execution_count": 14,
     "metadata": {},
     "output_type": "execute_result"
    }
   ],
   "source": [
    "X"
   ]
  },
  {
   "cell_type": "code",
   "execution_count": 15,
   "id": "32cc242f",
   "metadata": {},
   "outputs": [
    {
     "name": "stderr",
     "output_type": "stream",
     "text": [
      "C:\\Users\\bhuvn\\anaconda3\\lib\\site-packages\\statsmodels\\tsa\\tsatools.py:142: FutureWarning: In a future version of pandas all arguments of concat except for the argument 'objs' will be keyword-only\n",
      "  x = pd.concat(x[::order], 1)\n"
     ]
    },
    {
     "data": {
      "text/plain": [
       "array([  4.71751825,   0.06948129, -10.48330143])"
      ]
     },
     "execution_count": 15,
     "metadata": {},
     "output_type": "execute_result"
    }
   ],
   "source": [
    "x = sm.add_constant(X)\n",
    "model = sm.OLS(y,x)\n",
    "model1 = model.fit()\n",
    "np.array(model1.params)"
   ]
  },
  {
   "cell_type": "code",
   "execution_count": 16,
   "id": "c95f1951",
   "metadata": {},
   "outputs": [
    {
     "data": {
      "text/html": [
       "<table class=\"simpletable\">\n",
       "<caption>OLS Regression Results</caption>\n",
       "<tr>\n",
       "  <th>Dep. Variable:</th>      <td>Exchange Rate</td>  <th>  R-squared:         </th> <td>   0.749</td>\n",
       "</tr>\n",
       "<tr>\n",
       "  <th>Model:</th>                   <td>OLS</td>       <th>  Adj. R-squared:    </th> <td>   0.726</td>\n",
       "</tr>\n",
       "<tr>\n",
       "  <th>Method:</th>             <td>Least Squares</td>  <th>  F-statistic:       </th> <td>   32.74</td>\n",
       "</tr>\n",
       "<tr>\n",
       "  <th>Date:</th>             <td>Fri, 08 Jul 2022</td> <th>  Prob (F-statistic):</th> <td>2.54e-07</td>\n",
       "</tr>\n",
       "<tr>\n",
       "  <th>Time:</th>                 <td>15:08:08</td>     <th>  Log-Likelihood:    </th> <td> -72.596</td>\n",
       "</tr>\n",
       "<tr>\n",
       "  <th>No. Observations:</th>      <td>    25</td>      <th>  AIC:               </th> <td>   151.2</td>\n",
       "</tr>\n",
       "<tr>\n",
       "  <th>Df Residuals:</th>          <td>    22</td>      <th>  BIC:               </th> <td>   154.8</td>\n",
       "</tr>\n",
       "<tr>\n",
       "  <th>Df Model:</th>              <td>     2</td>      <th>                     </th>     <td> </td>   \n",
       "</tr>\n",
       "<tr>\n",
       "  <th>Covariance Type:</th>      <td>nonrobust</td>    <th>                     </th>     <td> </td>   \n",
       "</tr>\n",
       "</table>\n",
       "<table class=\"simpletable\">\n",
       "<tr>\n",
       "             <td></td>               <th>coef</th>     <th>std err</th>      <th>t</th>      <th>P>|t|</th>  <th>[0.025</th>    <th>0.975]</th>  \n",
       "</tr>\n",
       "<tr>\n",
       "  <th>const</th>                  <td>    4.7175</td> <td>    1.452</td> <td>    3.248</td> <td> 0.004</td> <td>    1.705</td> <td>    7.730</td>\n",
       "</tr>\n",
       "<tr>\n",
       "  <th>Differential Inflation</th> <td>    0.0695</td> <td>    0.057</td> <td>    1.221</td> <td> 0.235</td> <td>   -0.049</td> <td>    0.188</td>\n",
       "</tr>\n",
       "<tr>\n",
       "  <th>Political Stability</th>    <td>  -10.4833</td> <td>    1.302</td> <td>   -8.050</td> <td> 0.000</td> <td>  -13.184</td> <td>   -7.782</td>\n",
       "</tr>\n",
       "</table>\n",
       "<table class=\"simpletable\">\n",
       "<tr>\n",
       "  <th>Omnibus:</th>       <td> 5.840</td> <th>  Durbin-Watson:     </th> <td>   0.762</td>\n",
       "</tr>\n",
       "<tr>\n",
       "  <th>Prob(Omnibus):</th> <td> 0.054</td> <th>  Jarque-Bera (JB):  </th> <td>   4.543</td>\n",
       "</tr>\n",
       "<tr>\n",
       "  <th>Skew:</th>          <td>-0.512</td> <th>  Prob(JB):          </th> <td>   0.103</td>\n",
       "</tr>\n",
       "<tr>\n",
       "  <th>Kurtosis:</th>      <td> 4.820</td> <th>  Cond. No.          </th> <td>    39.0</td>\n",
       "</tr>\n",
       "</table><br/><br/>Notes:<br/>[1] Standard Errors assume that the covariance matrix of the errors is correctly specified."
      ],
      "text/plain": [
       "<class 'statsmodels.iolib.summary.Summary'>\n",
       "\"\"\"\n",
       "                            OLS Regression Results                            \n",
       "==============================================================================\n",
       "Dep. Variable:          Exchange Rate   R-squared:                       0.749\n",
       "Model:                            OLS   Adj. R-squared:                  0.726\n",
       "Method:                 Least Squares   F-statistic:                     32.74\n",
       "Date:                Fri, 08 Jul 2022   Prob (F-statistic):           2.54e-07\n",
       "Time:                        15:08:08   Log-Likelihood:                -72.596\n",
       "No. Observations:                  25   AIC:                             151.2\n",
       "Df Residuals:                      22   BIC:                             154.8\n",
       "Df Model:                           2                                         \n",
       "Covariance Type:            nonrobust                                         \n",
       "==========================================================================================\n",
       "                             coef    std err          t      P>|t|      [0.025      0.975]\n",
       "------------------------------------------------------------------------------------------\n",
       "const                      4.7175      1.452      3.248      0.004       1.705       7.730\n",
       "Differential Inflation     0.0695      0.057      1.221      0.235      -0.049       0.188\n",
       "Political Stability      -10.4833      1.302     -8.050      0.000     -13.184      -7.782\n",
       "==============================================================================\n",
       "Omnibus:                        5.840   Durbin-Watson:                   0.762\n",
       "Prob(Omnibus):                  0.054   Jarque-Bera (JB):                4.543\n",
       "Skew:                          -0.512   Prob(JB):                        0.103\n",
       "Kurtosis:                       4.820   Cond. No.                         39.0\n",
       "==============================================================================\n",
       "\n",
       "Notes:\n",
       "[1] Standard Errors assume that the covariance matrix of the errors is correctly specified.\n",
       "\"\"\""
      ]
     },
     "execution_count": 16,
     "metadata": {},
     "output_type": "execute_result"
    }
   ],
   "source": [
    "model1.summary()"
   ]
  },
  {
   "cell_type": "markdown",
   "id": "0b85e958",
   "metadata": {},
   "source": [
    "#### Finding VIF"
   ]
  },
  {
   "cell_type": "code",
   "execution_count": 17,
   "id": "ad560fee",
   "metadata": {},
   "outputs": [],
   "source": [
    "from statsmodels.stats.outliers_influence import variance_inflation_factor"
   ]
  },
  {
   "cell_type": "code",
   "execution_count": 18,
   "id": "e6ab9b6a",
   "metadata": {},
   "outputs": [],
   "source": [
    "vif_data = pd.DataFrame()\n",
    "vif_data[\"feature\"] = X.columns\n",
    "  \n",
    "# calculating VIF for each feature\n",
    "vif_data[\"VIF\"] = [variance_inflation_factor(X.values, i)\n",
    "                          for i in range(len(X.columns))]"
   ]
  },
  {
   "cell_type": "code",
   "execution_count": 19,
   "id": "8e865114",
   "metadata": {},
   "outputs": [
    {
     "data": {
      "text/html": [
       "<div>\n",
       "<style scoped>\n",
       "    .dataframe tbody tr th:only-of-type {\n",
       "        vertical-align: middle;\n",
       "    }\n",
       "\n",
       "    .dataframe tbody tr th {\n",
       "        vertical-align: top;\n",
       "    }\n",
       "\n",
       "    .dataframe thead th {\n",
       "        text-align: right;\n",
       "    }\n",
       "</style>\n",
       "<table border=\"1\" class=\"dataframe\">\n",
       "  <thead>\n",
       "    <tr style=\"text-align: right;\">\n",
       "      <th></th>\n",
       "      <th>feature</th>\n",
       "      <th>VIF</th>\n",
       "    </tr>\n",
       "  </thead>\n",
       "  <tbody>\n",
       "    <tr>\n",
       "      <th>0</th>\n",
       "      <td>Differential Inflation</td>\n",
       "      <td>1.249667</td>\n",
       "    </tr>\n",
       "    <tr>\n",
       "      <th>1</th>\n",
       "      <td>Political Stability</td>\n",
       "      <td>1.249667</td>\n",
       "    </tr>\n",
       "  </tbody>\n",
       "</table>\n",
       "</div>"
      ],
      "text/plain": [
       "                  feature       VIF\n",
       "0  Differential Inflation  1.249667\n",
       "1     Political Stability  1.249667"
      ]
     },
     "execution_count": 19,
     "metadata": {},
     "output_type": "execute_result"
    }
   ],
   "source": [
    "vif_data"
   ]
  },
  {
   "cell_type": "code",
   "execution_count": 20,
   "id": "16b73821",
   "metadata": {},
   "outputs": [],
   "source": [
    "y_pred=4.7175 + 0.0695*data['Differential Inflation'][0:25] - 10.4833*data['Political Stability'][:25]"
   ]
  },
  {
   "cell_type": "markdown",
   "id": "3a29e6a2",
   "metadata": {},
   "source": [
    "#### Evaluating the Model"
   ]
  },
  {
   "cell_type": "code",
   "execution_count": 21,
   "id": "ac57c655",
   "metadata": {},
   "outputs": [],
   "source": [
    "from sklearn.metrics import r2_score, mean_absolute_error , mean_squared_error"
   ]
  },
  {
   "cell_type": "code",
   "execution_count": 22,
   "id": "4f1411a9",
   "metadata": {},
   "outputs": [
    {
     "data": {
      "text/plain": [
       "0.6640445650277598"
      ]
     },
     "execution_count": 22,
     "metadata": {},
     "output_type": "execute_result"
    }
   ],
   "source": [
    "r2_score(y_pred,y)"
   ]
  },
  {
   "cell_type": "code",
   "execution_count": 23,
   "id": "2335de2e",
   "metadata": {},
   "outputs": [
    {
     "data": {
      "text/plain": [
       "4.414618708389839"
      ]
     },
     "execution_count": 23,
     "metadata": {},
     "output_type": "execute_result"
    }
   ],
   "source": [
    "RMSE = np.sqrt(mean_squared_error(y_pred,y))\n",
    "RMSE"
   ]
  },
  {
   "cell_type": "code",
   "execution_count": 24,
   "id": "67f051b4",
   "metadata": {},
   "outputs": [
    {
     "data": {
      "text/plain": [
       "3.3722767892599994"
      ]
     },
     "execution_count": 24,
     "metadata": {},
     "output_type": "execute_result"
    }
   ],
   "source": [
    "MSE = mean_absolute_error(y_pred,y)\n",
    "MSE"
   ]
  },
  {
   "cell_type": "markdown",
   "id": "b67a536d",
   "metadata": {},
   "source": [
    "## Forecasting Using Model-2"
   ]
  },
  {
   "cell_type": "code",
   "execution_count": 25,
   "id": "bd55e779",
   "metadata": {},
   "outputs": [],
   "source": [
    "X=data[['Real Interest Rate','Balance Of Payment']][:25]"
   ]
  },
  {
   "cell_type": "code",
   "execution_count": 26,
   "id": "bb44fbe2",
   "metadata": {},
   "outputs": [
    {
     "data": {
      "text/html": [
       "<div>\n",
       "<style scoped>\n",
       "    .dataframe tbody tr th:only-of-type {\n",
       "        vertical-align: middle;\n",
       "    }\n",
       "\n",
       "    .dataframe tbody tr th {\n",
       "        vertical-align: top;\n",
       "    }\n",
       "\n",
       "    .dataframe thead th {\n",
       "        text-align: right;\n",
       "    }\n",
       "</style>\n",
       "<table border=\"1\" class=\"dataframe\">\n",
       "  <thead>\n",
       "    <tr style=\"text-align: right;\">\n",
       "      <th></th>\n",
       "      <th>Real Interest Rate</th>\n",
       "      <th>Balance Of Payment</th>\n",
       "    </tr>\n",
       "  </thead>\n",
       "  <tbody>\n",
       "    <tr>\n",
       "      <th>0</th>\n",
       "      <td>8.268450</td>\n",
       "      <td>-1184000000</td>\n",
       "    </tr>\n",
       "    <tr>\n",
       "      <th>1</th>\n",
       "      <td>26.291076</td>\n",
       "      <td>-1335000000</td>\n",
       "    </tr>\n",
       "    <tr>\n",
       "      <th>2</th>\n",
       "      <td>37.928652</td>\n",
       "      <td>-1296000000</td>\n",
       "    </tr>\n",
       "    <tr>\n",
       "      <th>3</th>\n",
       "      <td>21.626836</td>\n",
       "      <td>1658000000</td>\n",
       "    </tr>\n",
       "    <tr>\n",
       "      <th>4</th>\n",
       "      <td>11.001457</td>\n",
       "      <td>1342000000</td>\n",
       "    </tr>\n",
       "  </tbody>\n",
       "</table>\n",
       "</div>"
      ],
      "text/plain": [
       "   Real Interest Rate  Balance Of Payment\n",
       "0            8.268450         -1184000000\n",
       "1           26.291076         -1335000000\n",
       "2           37.928652         -1296000000\n",
       "3           21.626836          1658000000\n",
       "4           11.001457          1342000000"
      ]
     },
     "execution_count": 26,
     "metadata": {},
     "output_type": "execute_result"
    }
   ],
   "source": [
    "X.head()"
   ]
  },
  {
   "cell_type": "code",
   "execution_count": 27,
   "id": "c5a063eb",
   "metadata": {},
   "outputs": [],
   "source": [
    "y = data[['Exchange Rate']][:25]"
   ]
  },
  {
   "cell_type": "code",
   "execution_count": 28,
   "id": "b7d2f7a2",
   "metadata": {},
   "outputs": [],
   "source": [
    "from sklearn.preprocessing import MinMaxScaler"
   ]
  },
  {
   "cell_type": "code",
   "execution_count": 29,
   "id": "ad9837c8",
   "metadata": {},
   "outputs": [],
   "source": [
    "scaler = MinMaxScaler()"
   ]
  },
  {
   "cell_type": "code",
   "execution_count": 30,
   "id": "a492c6de",
   "metadata": {},
   "outputs": [
    {
     "name": "stdout",
     "output_type": "stream",
     "text": [
      "Help on class MinMaxScaler in module sklearn.preprocessing._data:\n",
      "\n",
      "class MinMaxScaler(sklearn.base.TransformerMixin, sklearn.base.BaseEstimator)\n",
      " |  MinMaxScaler(feature_range=(0, 1), *, copy=True, clip=False)\n",
      " |  \n",
      " |  Transform features by scaling each feature to a given range.\n",
      " |  \n",
      " |  This estimator scales and translates each feature individually such\n",
      " |  that it is in the given range on the training set, e.g. between\n",
      " |  zero and one.\n",
      " |  \n",
      " |  The transformation is given by::\n",
      " |  \n",
      " |      X_std = (X - X.min(axis=0)) / (X.max(axis=0) - X.min(axis=0))\n",
      " |      X_scaled = X_std * (max - min) + min\n",
      " |  \n",
      " |  where min, max = feature_range.\n",
      " |  \n",
      " |  This transformation is often used as an alternative to zero mean,\n",
      " |  unit variance scaling.\n",
      " |  \n",
      " |  Read more in the :ref:`User Guide <preprocessing_scaler>`.\n",
      " |  \n",
      " |  Parameters\n",
      " |  ----------\n",
      " |  feature_range : tuple (min, max), default=(0, 1)\n",
      " |      Desired range of transformed data.\n",
      " |  \n",
      " |  copy : bool, default=True\n",
      " |      Set to False to perform inplace row normalization and avoid a\n",
      " |      copy (if the input is already a numpy array).\n",
      " |  \n",
      " |  clip : bool, default=False\n",
      " |      Set to True to clip transformed values of held-out data to\n",
      " |      provided `feature range`.\n",
      " |  \n",
      " |      .. versionadded:: 0.24\n",
      " |  \n",
      " |  Attributes\n",
      " |  ----------\n",
      " |  min_ : ndarray of shape (n_features,)\n",
      " |      Per feature adjustment for minimum. Equivalent to\n",
      " |      ``min - X.min(axis=0) * self.scale_``\n",
      " |  \n",
      " |  scale_ : ndarray of shape (n_features,)\n",
      " |      Per feature relative scaling of the data. Equivalent to\n",
      " |      ``(max - min) / (X.max(axis=0) - X.min(axis=0))``\n",
      " |  \n",
      " |      .. versionadded:: 0.17\n",
      " |         *scale_* attribute.\n",
      " |  \n",
      " |  data_min_ : ndarray of shape (n_features,)\n",
      " |      Per feature minimum seen in the data\n",
      " |  \n",
      " |      .. versionadded:: 0.17\n",
      " |         *data_min_*\n",
      " |  \n",
      " |  data_max_ : ndarray of shape (n_features,)\n",
      " |      Per feature maximum seen in the data\n",
      " |  \n",
      " |      .. versionadded:: 0.17\n",
      " |         *data_max_*\n",
      " |  \n",
      " |  data_range_ : ndarray of shape (n_features,)\n",
      " |      Per feature range ``(data_max_ - data_min_)`` seen in the data\n",
      " |  \n",
      " |      .. versionadded:: 0.17\n",
      " |         *data_range_*\n",
      " |  \n",
      " |  n_samples_seen_ : int\n",
      " |      The number of samples processed by the estimator.\n",
      " |      It will be reset on new calls to fit, but increments across\n",
      " |      ``partial_fit`` calls.\n",
      " |  \n",
      " |  Examples\n",
      " |  --------\n",
      " |  >>> from sklearn.preprocessing import MinMaxScaler\n",
      " |  >>> data = [[-1, 2], [-0.5, 6], [0, 10], [1, 18]]\n",
      " |  >>> scaler = MinMaxScaler()\n",
      " |  >>> print(scaler.fit(data))\n",
      " |  MinMaxScaler()\n",
      " |  >>> print(scaler.data_max_)\n",
      " |  [ 1. 18.]\n",
      " |  >>> print(scaler.transform(data))\n",
      " |  [[0.   0.  ]\n",
      " |   [0.25 0.25]\n",
      " |   [0.5  0.5 ]\n",
      " |   [1.   1.  ]]\n",
      " |  >>> print(scaler.transform([[2, 2]]))\n",
      " |  [[1.5 0. ]]\n",
      " |  \n",
      " |  See Also\n",
      " |  --------\n",
      " |  minmax_scale : Equivalent function without the estimator API.\n",
      " |  \n",
      " |  Notes\n",
      " |  -----\n",
      " |  NaNs are treated as missing values: disregarded in fit, and maintained in\n",
      " |  transform.\n",
      " |  \n",
      " |  For a comparison of the different scalers, transformers, and normalizers,\n",
      " |  see :ref:`examples/preprocessing/plot_all_scaling.py\n",
      " |  <sphx_glr_auto_examples_preprocessing_plot_all_scaling.py>`.\n",
      " |  \n",
      " |  Method resolution order:\n",
      " |      MinMaxScaler\n",
      " |      sklearn.base.TransformerMixin\n",
      " |      sklearn.base.BaseEstimator\n",
      " |      builtins.object\n",
      " |  \n",
      " |  Methods defined here:\n",
      " |  \n",
      " |  __init__(self, feature_range=(0, 1), *, copy=True, clip=False)\n",
      " |      Initialize self.  See help(type(self)) for accurate signature.\n",
      " |  \n",
      " |  fit(self, X, y=None)\n",
      " |      Compute the minimum and maximum to be used for later scaling.\n",
      " |      \n",
      " |      Parameters\n",
      " |      ----------\n",
      " |      X : array-like of shape (n_samples, n_features)\n",
      " |          The data used to compute the per-feature minimum and maximum\n",
      " |          used for later scaling along the features axis.\n",
      " |      \n",
      " |      y : None\n",
      " |          Ignored.\n",
      " |      \n",
      " |      Returns\n",
      " |      -------\n",
      " |      self : object\n",
      " |          Fitted scaler.\n",
      " |  \n",
      " |  inverse_transform(self, X)\n",
      " |      Undo the scaling of X according to feature_range.\n",
      " |      \n",
      " |      Parameters\n",
      " |      ----------\n",
      " |      X : array-like of shape (n_samples, n_features)\n",
      " |          Input data that will be transformed. It cannot be sparse.\n",
      " |      \n",
      " |      Returns\n",
      " |      -------\n",
      " |      Xt : ndarray of shape (n_samples, n_features)\n",
      " |          Transformed data.\n",
      " |  \n",
      " |  partial_fit(self, X, y=None)\n",
      " |      Online computation of min and max on X for later scaling.\n",
      " |      \n",
      " |      All of X is processed as a single batch. This is intended for cases\n",
      " |      when :meth:`fit` is not feasible due to very large number of\n",
      " |      `n_samples` or because X is read from a continuous stream.\n",
      " |      \n",
      " |      Parameters\n",
      " |      ----------\n",
      " |      X : array-like of shape (n_samples, n_features)\n",
      " |          The data used to compute the mean and standard deviation\n",
      " |          used for later scaling along the features axis.\n",
      " |      \n",
      " |      y : None\n",
      " |          Ignored.\n",
      " |      \n",
      " |      Returns\n",
      " |      -------\n",
      " |      self : object\n",
      " |          Fitted scaler.\n",
      " |  \n",
      " |  transform(self, X)\n",
      " |      Scale features of X according to feature_range.\n",
      " |      \n",
      " |      Parameters\n",
      " |      ----------\n",
      " |      X : array-like of shape (n_samples, n_features)\n",
      " |          Input data that will be transformed.\n",
      " |      \n",
      " |      Returns\n",
      " |      -------\n",
      " |      Xt : ndarray of shape (n_samples, n_features)\n",
      " |          Transformed data.\n",
      " |  \n",
      " |  ----------------------------------------------------------------------\n",
      " |  Methods inherited from sklearn.base.TransformerMixin:\n",
      " |  \n",
      " |  fit_transform(self, X, y=None, **fit_params)\n",
      " |      Fit to data, then transform it.\n",
      " |      \n",
      " |      Fits transformer to `X` and `y` with optional parameters `fit_params`\n",
      " |      and returns a transformed version of `X`.\n",
      " |      \n",
      " |      Parameters\n",
      " |      ----------\n",
      " |      X : array-like of shape (n_samples, n_features)\n",
      " |          Input samples.\n",
      " |      \n",
      " |      y :  array-like of shape (n_samples,) or (n_samples, n_outputs),                 default=None\n",
      " |          Target values (None for unsupervised transformations).\n",
      " |      \n",
      " |      **fit_params : dict\n",
      " |          Additional fit parameters.\n",
      " |      \n",
      " |      Returns\n",
      " |      -------\n",
      " |      X_new : ndarray array of shape (n_samples, n_features_new)\n",
      " |          Transformed array.\n",
      " |  \n",
      " |  ----------------------------------------------------------------------\n",
      " |  Data descriptors inherited from sklearn.base.TransformerMixin:\n",
      " |  \n",
      " |  __dict__\n",
      " |      dictionary for instance variables (if defined)\n",
      " |  \n",
      " |  __weakref__\n",
      " |      list of weak references to the object (if defined)\n",
      " |  \n",
      " |  ----------------------------------------------------------------------\n",
      " |  Methods inherited from sklearn.base.BaseEstimator:\n",
      " |  \n",
      " |  __getstate__(self)\n",
      " |  \n",
      " |  __repr__(self, N_CHAR_MAX=700)\n",
      " |      Return repr(self).\n",
      " |  \n",
      " |  __setstate__(self, state)\n",
      " |  \n",
      " |  get_params(self, deep=True)\n",
      " |      Get parameters for this estimator.\n",
      " |      \n",
      " |      Parameters\n",
      " |      ----------\n",
      " |      deep : bool, default=True\n",
      " |          If True, will return the parameters for this estimator and\n",
      " |          contained subobjects that are estimators.\n",
      " |      \n",
      " |      Returns\n",
      " |      -------\n",
      " |      params : dict\n",
      " |          Parameter names mapped to their values.\n",
      " |  \n",
      " |  set_params(self, **params)\n",
      " |      Set the parameters of this estimator.\n",
      " |      \n",
      " |      The method works on simple estimators as well as on nested objects\n",
      " |      (such as :class:`~sklearn.pipeline.Pipeline`). The latter have\n",
      " |      parameters of the form ``<component>__<parameter>`` so that it's\n",
      " |      possible to update each component of a nested object.\n",
      " |      \n",
      " |      Parameters\n",
      " |      ----------\n",
      " |      **params : dict\n",
      " |          Estimator parameters.\n",
      " |      \n",
      " |      Returns\n",
      " |      -------\n",
      " |      self : estimator instance\n",
      " |          Estimator instance.\n",
      "\n"
     ]
    }
   ],
   "source": [
    "help(MinMaxScaler)"
   ]
  },
  {
   "cell_type": "code",
   "execution_count": 31,
   "id": "8f566a15",
   "metadata": {},
   "outputs": [
    {
     "data": {
      "text/plain": [
       "MinMaxScaler()"
      ]
     },
     "execution_count": 31,
     "metadata": {},
     "output_type": "execute_result"
    }
   ],
   "source": [
    "scaler.fit(X)"
   ]
  },
  {
   "cell_type": "code",
   "execution_count": 32,
   "id": "11acdb5f",
   "metadata": {},
   "outputs": [],
   "source": [
    "X_train = scaler.transform(X)"
   ]
  },
  {
   "cell_type": "code",
   "execution_count": 33,
   "id": "1b77404d",
   "metadata": {},
   "outputs": [
    {
     "data": {
      "text/html": [
       "<div>\n",
       "<style scoped>\n",
       "    .dataframe tbody tr th:only-of-type {\n",
       "        vertical-align: middle;\n",
       "    }\n",
       "\n",
       "    .dataframe tbody tr th {\n",
       "        vertical-align: top;\n",
       "    }\n",
       "\n",
       "    .dataframe thead th {\n",
       "        text-align: right;\n",
       "    }\n",
       "</style>\n",
       "<table border=\"1\" class=\"dataframe\">\n",
       "  <thead>\n",
       "    <tr style=\"text-align: right;\">\n",
       "      <th></th>\n",
       "      <th>0</th>\n",
       "      <th>1</th>\n",
       "    </tr>\n",
       "  </thead>\n",
       "  <tbody>\n",
       "    <tr>\n",
       "      <th>0</th>\n",
       "      <td>0.409296</td>\n",
       "      <td>0.654488</td>\n",
       "    </tr>\n",
       "    <tr>\n",
       "      <th>1</th>\n",
       "      <td>0.768229</td>\n",
       "      <td>0.648043</td>\n",
       "    </tr>\n",
       "    <tr>\n",
       "      <th>2</th>\n",
       "      <td>1.000000</td>\n",
       "      <td>0.649708</td>\n",
       "    </tr>\n",
       "    <tr>\n",
       "      <th>3</th>\n",
       "      <td>0.675338</td>\n",
       "      <td>0.775791</td>\n",
       "    </tr>\n",
       "    <tr>\n",
       "      <th>4</th>\n",
       "      <td>0.463725</td>\n",
       "      <td>0.762303</td>\n",
       "    </tr>\n",
       "    <tr>\n",
       "      <th>5</th>\n",
       "      <td>0.643604</td>\n",
       "      <td>0.761535</td>\n",
       "    </tr>\n",
       "    <tr>\n",
       "      <th>6</th>\n",
       "      <td>0.624867</td>\n",
       "      <td>0.840753</td>\n",
       "    </tr>\n",
       "    <tr>\n",
       "      <th>7</th>\n",
       "      <td>0.423787</td>\n",
       "      <td>0.828845</td>\n",
       "    </tr>\n",
       "    <tr>\n",
       "      <th>8</th>\n",
       "      <td>0.280729</td>\n",
       "      <td>1.000000</td>\n",
       "    </tr>\n",
       "    <tr>\n",
       "      <th>9</th>\n",
       "      <td>0.117488</td>\n",
       "      <td>0.813180</td>\n",
       "    </tr>\n",
       "    <tr>\n",
       "      <th>10</th>\n",
       "      <td>0.250115</td>\n",
       "      <td>0.635921</td>\n",
       "    </tr>\n",
       "    <tr>\n",
       "      <th>11</th>\n",
       "      <td>0.099633</td>\n",
       "      <td>0.480900</td>\n",
       "    </tr>\n",
       "    <tr>\n",
       "      <th>12</th>\n",
       "      <td>0.066682</td>\n",
       "      <td>0.159503</td>\n",
       "    </tr>\n",
       "    <tr>\n",
       "      <th>13</th>\n",
       "      <td>0.390210</td>\n",
       "      <td>0.630927</td>\n",
       "    </tr>\n",
       "    <tr>\n",
       "      <th>14</th>\n",
       "      <td>0.283083</td>\n",
       "      <td>0.576294</td>\n",
       "    </tr>\n",
       "    <tr>\n",
       "      <th>15</th>\n",
       "      <td>0.275414</td>\n",
       "      <td>0.268257</td>\n",
       "    </tr>\n",
       "    <tr>\n",
       "      <th>16</th>\n",
       "      <td>0.436614</td>\n",
       "      <td>0.093175</td>\n",
       "    </tr>\n",
       "    <tr>\n",
       "      <th>17</th>\n",
       "      <td>0.480239</td>\n",
       "      <td>0.000000</td>\n",
       "    </tr>\n",
       "    <tr>\n",
       "      <th>18</th>\n",
       "      <td>0.275833</td>\n",
       "      <td>0.508857</td>\n",
       "    </tr>\n",
       "    <tr>\n",
       "      <th>19</th>\n",
       "      <td>0.000000</td>\n",
       "      <td>0.919928</td>\n",
       "    </tr>\n",
       "    <tr>\n",
       "      <th>20</th>\n",
       "      <td>0.281021</td>\n",
       "      <td>0.625379</td>\n",
       "    </tr>\n",
       "    <tr>\n",
       "      <th>21</th>\n",
       "      <td>0.151408</td>\n",
       "      <td>0.556789</td>\n",
       "    </tr>\n",
       "    <tr>\n",
       "      <th>22</th>\n",
       "      <td>0.306862</td>\n",
       "      <td>0.430492</td>\n",
       "    </tr>\n",
       "    <tr>\n",
       "      <th>23</th>\n",
       "      <td>0.457595</td>\n",
       "      <td>0.529003</td>\n",
       "    </tr>\n",
       "    <tr>\n",
       "      <th>24</th>\n",
       "      <td>0.316805</td>\n",
       "      <td>0.929831</td>\n",
       "    </tr>\n",
       "  </tbody>\n",
       "</table>\n",
       "</div>"
      ],
      "text/plain": [
       "           0         1\n",
       "0   0.409296  0.654488\n",
       "1   0.768229  0.648043\n",
       "2   1.000000  0.649708\n",
       "3   0.675338  0.775791\n",
       "4   0.463725  0.762303\n",
       "5   0.643604  0.761535\n",
       "6   0.624867  0.840753\n",
       "7   0.423787  0.828845\n",
       "8   0.280729  1.000000\n",
       "9   0.117488  0.813180\n",
       "10  0.250115  0.635921\n",
       "11  0.099633  0.480900\n",
       "12  0.066682  0.159503\n",
       "13  0.390210  0.630927\n",
       "14  0.283083  0.576294\n",
       "15  0.275414  0.268257\n",
       "16  0.436614  0.093175\n",
       "17  0.480239  0.000000\n",
       "18  0.275833  0.508857\n",
       "19  0.000000  0.919928\n",
       "20  0.281021  0.625379\n",
       "21  0.151408  0.556789\n",
       "22  0.306862  0.430492\n",
       "23  0.457595  0.529003\n",
       "24  0.316805  0.929831"
      ]
     },
     "execution_count": 33,
     "metadata": {},
     "output_type": "execute_result"
    }
   ],
   "source": [
    "X_train = pd.DataFrame(X_train)\n",
    "X_train"
   ]
  },
  {
   "cell_type": "code",
   "execution_count": 34,
   "id": "0a27f699",
   "metadata": {},
   "outputs": [
    {
     "name": "stderr",
     "output_type": "stream",
     "text": [
      "C:\\Users\\bhuvn\\anaconda3\\lib\\site-packages\\statsmodels\\tsa\\tsatools.py:142: FutureWarning: In a future version of pandas all arguments of concat except for the argument 'objs' will be keyword-only\n",
      "  x = pd.concat(x[::order], 1)\n"
     ]
    },
    {
     "data": {
      "text/plain": [
       "array([ 1.26747333e+01, -2.88081376e-01,  8.56305344e-11])"
      ]
     },
     "execution_count": 34,
     "metadata": {},
     "output_type": "execute_result"
    }
   ],
   "source": [
    "x = sm.add_constant(X)\n",
    "model = sm.OLS(y,x)\n",
    "model1 = model.fit()\n",
    "np.array(model1.params)"
   ]
  },
  {
   "cell_type": "code",
   "execution_count": 35,
   "id": "1cea466c",
   "metadata": {},
   "outputs": [
    {
     "data": {
      "text/html": [
       "<table class=\"simpletable\">\n",
       "<caption>OLS Regression Results</caption>\n",
       "<tr>\n",
       "  <th>Dep. Variable:</th>      <td>Exchange Rate</td>  <th>  R-squared:         </th> <td>   0.140</td>\n",
       "</tr>\n",
       "<tr>\n",
       "  <th>Model:</th>                   <td>OLS</td>       <th>  Adj. R-squared:    </th> <td>   0.062</td>\n",
       "</tr>\n",
       "<tr>\n",
       "  <th>Method:</th>             <td>Least Squares</td>  <th>  F-statistic:       </th> <td>   1.789</td>\n",
       "</tr>\n",
       "<tr>\n",
       "  <th>Date:</th>             <td>Fri, 08 Jul 2022</td> <th>  Prob (F-statistic):</th>  <td> 0.191</td> \n",
       "</tr>\n",
       "<tr>\n",
       "  <th>Time:</th>                 <td>15:08:08</td>     <th>  Log-Likelihood:    </th> <td> -87.968</td>\n",
       "</tr>\n",
       "<tr>\n",
       "  <th>No. Observations:</th>      <td>    25</td>      <th>  AIC:               </th> <td>   181.9</td>\n",
       "</tr>\n",
       "<tr>\n",
       "  <th>Df Residuals:</th>          <td>    22</td>      <th>  BIC:               </th> <td>   185.6</td>\n",
       "</tr>\n",
       "<tr>\n",
       "  <th>Df Model:</th>              <td>     2</td>      <th>                     </th>     <td> </td>   \n",
       "</tr>\n",
       "<tr>\n",
       "  <th>Covariance Type:</th>      <td>nonrobust</td>    <th>                     </th>     <td> </td>   \n",
       "</tr>\n",
       "</table>\n",
       "<table class=\"simpletable\">\n",
       "<tr>\n",
       "           <td></td>             <th>coef</th>     <th>std err</th>      <th>t</th>      <th>P>|t|</th>  <th>[0.025</th>    <th>0.975]</th>  \n",
       "</tr>\n",
       "<tr>\n",
       "  <th>const</th>              <td>   12.6747</td> <td>    2.172</td> <td>    5.836</td> <td> 0.000</td> <td>    8.171</td> <td>   17.179</td>\n",
       "</tr>\n",
       "<tr>\n",
       "  <th>Real Interest Rate</th> <td>   -0.2881</td> <td>    0.153</td> <td>   -1.888</td> <td> 0.072</td> <td>   -0.605</td> <td>    0.028</td>\n",
       "</tr>\n",
       "<tr>\n",
       "  <th>Balance Of Payment</th> <td> 8.563e-11</td> <td> 2.95e-10</td> <td>    0.290</td> <td> 0.774</td> <td>-5.26e-10</td> <td> 6.97e-10</td>\n",
       "</tr>\n",
       "</table>\n",
       "<table class=\"simpletable\">\n",
       "<tr>\n",
       "  <th>Omnibus:</th>       <td> 4.294</td> <th>  Durbin-Watson:     </th> <td>   0.150</td>\n",
       "</tr>\n",
       "<tr>\n",
       "  <th>Prob(Omnibus):</th> <td> 0.117</td> <th>  Jarque-Bera (JB):  </th> <td>   3.731</td>\n",
       "</tr>\n",
       "<tr>\n",
       "  <th>Skew:</th>          <td> 0.923</td> <th>  Prob(JB):          </th> <td>   0.155</td>\n",
       "</tr>\n",
       "<tr>\n",
       "  <th>Kurtosis:</th>      <td> 2.581</td> <th>  Cond. No.          </th> <td>7.98e+09</td>\n",
       "</tr>\n",
       "</table><br/><br/>Notes:<br/>[1] Standard Errors assume that the covariance matrix of the errors is correctly specified.<br/>[2] The condition number is large, 7.98e+09. This might indicate that there are<br/>strong multicollinearity or other numerical problems."
      ],
      "text/plain": [
       "<class 'statsmodels.iolib.summary.Summary'>\n",
       "\"\"\"\n",
       "                            OLS Regression Results                            \n",
       "==============================================================================\n",
       "Dep. Variable:          Exchange Rate   R-squared:                       0.140\n",
       "Model:                            OLS   Adj. R-squared:                  0.062\n",
       "Method:                 Least Squares   F-statistic:                     1.789\n",
       "Date:                Fri, 08 Jul 2022   Prob (F-statistic):              0.191\n",
       "Time:                        15:08:08   Log-Likelihood:                -87.968\n",
       "No. Observations:                  25   AIC:                             181.9\n",
       "Df Residuals:                      22   BIC:                             185.6\n",
       "Df Model:                           2                                         \n",
       "Covariance Type:            nonrobust                                         \n",
       "======================================================================================\n",
       "                         coef    std err          t      P>|t|      [0.025      0.975]\n",
       "--------------------------------------------------------------------------------------\n",
       "const                 12.6747      2.172      5.836      0.000       8.171      17.179\n",
       "Real Interest Rate    -0.2881      0.153     -1.888      0.072      -0.605       0.028\n",
       "Balance Of Payment  8.563e-11   2.95e-10      0.290      0.774   -5.26e-10    6.97e-10\n",
       "==============================================================================\n",
       "Omnibus:                        4.294   Durbin-Watson:                   0.150\n",
       "Prob(Omnibus):                  0.117   Jarque-Bera (JB):                3.731\n",
       "Skew:                           0.923   Prob(JB):                        0.155\n",
       "Kurtosis:                       2.581   Cond. No.                     7.98e+09\n",
       "==============================================================================\n",
       "\n",
       "Notes:\n",
       "[1] Standard Errors assume that the covariance matrix of the errors is correctly specified.\n",
       "[2] The condition number is large, 7.98e+09. This might indicate that there are\n",
       "strong multicollinearity or other numerical problems.\n",
       "\"\"\""
      ]
     },
     "execution_count": 35,
     "metadata": {},
     "output_type": "execute_result"
    }
   ],
   "source": [
    "model1.summary()"
   ]
  },
  {
   "cell_type": "markdown",
   "id": "ea5bc298",
   "metadata": {},
   "source": [
    "#### Finding VIF"
   ]
  },
  {
   "cell_type": "code",
   "execution_count": 36,
   "id": "a5e24e02",
   "metadata": {},
   "outputs": [],
   "source": [
    "from statsmodels.stats.outliers_influence import variance_inflation_factor"
   ]
  },
  {
   "cell_type": "code",
   "execution_count": 37,
   "id": "c54e334d",
   "metadata": {},
   "outputs": [],
   "source": [
    "vif_data = pd.DataFrame()\n",
    "vif_data[\"feature\"] = X.columns\n",
    "  \n",
    "# calculating VIF for each feature\n",
    "vif_data[\"VIF\"] = [variance_inflation_factor(X.values, i)\n",
    "                          for i in range(len(X.columns))]"
   ]
  },
  {
   "cell_type": "code",
   "execution_count": 38,
   "id": "1aec1065",
   "metadata": {},
   "outputs": [
    {
     "data": {
      "text/html": [
       "<div>\n",
       "<style scoped>\n",
       "    .dataframe tbody tr th:only-of-type {\n",
       "        vertical-align: middle;\n",
       "    }\n",
       "\n",
       "    .dataframe tbody tr th {\n",
       "        vertical-align: top;\n",
       "    }\n",
       "\n",
       "    .dataframe thead th {\n",
       "        text-align: right;\n",
       "    }\n",
       "</style>\n",
       "<table border=\"1\" class=\"dataframe\">\n",
       "  <thead>\n",
       "    <tr style=\"text-align: right;\">\n",
       "      <th></th>\n",
       "      <th>feature</th>\n",
       "      <th>VIF</th>\n",
       "    </tr>\n",
       "  </thead>\n",
       "  <tbody>\n",
       "    <tr>\n",
       "      <th>0</th>\n",
       "      <td>Real Interest Rate</td>\n",
       "      <td>1.014167</td>\n",
       "    </tr>\n",
       "    <tr>\n",
       "      <th>1</th>\n",
       "      <td>Balance Of Payment</td>\n",
       "      <td>1.014167</td>\n",
       "    </tr>\n",
       "  </tbody>\n",
       "</table>\n",
       "</div>"
      ],
      "text/plain": [
       "              feature       VIF\n",
       "0  Real Interest Rate  1.014167\n",
       "1  Balance Of Payment  1.014167"
      ]
     },
     "execution_count": 38,
     "metadata": {},
     "output_type": "execute_result"
    }
   ],
   "source": [
    "vif_data"
   ]
  },
  {
   "cell_type": "code",
   "execution_count": 39,
   "id": "d7f7c195",
   "metadata": {},
   "outputs": [],
   "source": [
    "y_pred=12.6747 -0.2881*data['Real Interest Rate'][0:25]+ 8.563e-11*data['Balance Of Payment'][:25]"
   ]
  },
  {
   "cell_type": "markdown",
   "id": "de8183df",
   "metadata": {},
   "source": [
    "#### Evaluating the Model"
   ]
  },
  {
   "cell_type": "code",
   "execution_count": 40,
   "id": "d412d411",
   "metadata": {},
   "outputs": [],
   "source": [
    "from sklearn.metrics import r2_score, mean_absolute_error , mean_squared_error"
   ]
  },
  {
   "cell_type": "code",
   "execution_count": 41,
   "id": "0e304a11",
   "metadata": {},
   "outputs": [
    {
     "data": {
      "text/plain": [
       "-5.147849047495995"
      ]
     },
     "execution_count": 41,
     "metadata": {},
     "output_type": "execute_result"
    }
   ],
   "source": [
    "r2_score(y_pred,y)"
   ]
  },
  {
   "cell_type": "code",
   "execution_count": 42,
   "id": "3f599392",
   "metadata": {},
   "outputs": [
    {
     "data": {
      "text/plain": [
       "8.16441054402962"
      ]
     },
     "execution_count": 42,
     "metadata": {},
     "output_type": "execute_result"
    }
   ],
   "source": [
    "RMSE = np.sqrt(mean_squared_error(y_pred,y))\n",
    "RMSE"
   ]
  },
  {
   "cell_type": "code",
   "execution_count": 43,
   "id": "5ca6173d",
   "metadata": {},
   "outputs": [
    {
     "data": {
      "text/plain": [
       "6.408074635743088"
      ]
     },
     "execution_count": 43,
     "metadata": {},
     "output_type": "execute_result"
    }
   ],
   "source": [
    "MSE = mean_absolute_error(y_pred,y)\n",
    "MSE"
   ]
  },
  {
   "cell_type": "markdown",
   "id": "66eb4fe0",
   "metadata": {},
   "source": [
    "## Forecasting Using Model -3"
   ]
  },
  {
   "cell_type": "markdown",
   "id": "21550791",
   "metadata": {},
   "source": [
    "### Using Differential Inflation, Political Stability, GDP"
   ]
  },
  {
   "cell_type": "code",
   "execution_count": 44,
   "id": "0de79338",
   "metadata": {},
   "outputs": [],
   "source": [
    "import statsmodels.api as sm"
   ]
  },
  {
   "cell_type": "code",
   "execution_count": 45,
   "id": "3ef271b0",
   "metadata": {},
   "outputs": [],
   "source": [
    "X=data[['Differential Inflation','Political Stability', 'GDP']][:25]"
   ]
  },
  {
   "cell_type": "code",
   "execution_count": 46,
   "id": "f1ea7a8f",
   "metadata": {},
   "outputs": [],
   "source": [
    "y = data[['Exchange Rate']][:25]"
   ]
  },
  {
   "cell_type": "code",
   "execution_count": 47,
   "id": "66f19f9c",
   "metadata": {},
   "outputs": [
    {
     "data": {
      "text/html": [
       "<div>\n",
       "<style scoped>\n",
       "    .dataframe tbody tr th:only-of-type {\n",
       "        vertical-align: middle;\n",
       "    }\n",
       "\n",
       "    .dataframe tbody tr th {\n",
       "        vertical-align: top;\n",
       "    }\n",
       "\n",
       "    .dataframe thead th {\n",
       "        text-align: right;\n",
       "    }\n",
       "</style>\n",
       "<table border=\"1\" class=\"dataframe\">\n",
       "  <thead>\n",
       "    <tr style=\"text-align: right;\">\n",
       "      <th></th>\n",
       "      <th>Differential Inflation</th>\n",
       "      <th>Political Stability</th>\n",
       "      <th>GDP</th>\n",
       "    </tr>\n",
       "  </thead>\n",
       "  <tbody>\n",
       "    <tr>\n",
       "      <th>0</th>\n",
       "      <td>-77.394296</td>\n",
       "      <td>-0.150</td>\n",
       "      <td>4.460000e+10</td>\n",
       "    </tr>\n",
       "    <tr>\n",
       "      <th>1</th>\n",
       "      <td>-13.602910</td>\n",
       "      <td>-0.135</td>\n",
       "      <td>5.020000e+10</td>\n",
       "    </tr>\n",
       "    <tr>\n",
       "      <th>2</th>\n",
       "      <td>-9.024881</td>\n",
       "      <td>-0.120</td>\n",
       "      <td>4.190000e+10</td>\n",
       "    </tr>\n",
       "    <tr>\n",
       "      <th>3</th>\n",
       "      <td>-20.495643</td>\n",
       "      <td>-0.265</td>\n",
       "      <td>3.160000e+10</td>\n",
       "    </tr>\n",
       "    <tr>\n",
       "      <th>4</th>\n",
       "      <td>-24.826243</td>\n",
       "      <td>-0.410</td>\n",
       "      <td>3.240000e+10</td>\n",
       "    </tr>\n",
       "    <tr>\n",
       "      <th>5</th>\n",
       "      <td>-9.132639</td>\n",
       "      <td>-0.355</td>\n",
       "      <td>3.930000e+10</td>\n",
       "    </tr>\n",
       "    <tr>\n",
       "      <th>6</th>\n",
       "      <td>0.828611</td>\n",
       "      <td>-0.300</td>\n",
       "      <td>4.400000e+10</td>\n",
       "    </tr>\n",
       "    <tr>\n",
       "      <th>7</th>\n",
       "      <td>-2.909583</td>\n",
       "      <td>-0.360</td>\n",
       "      <td>5.200000e+10</td>\n",
       "    </tr>\n",
       "    <tr>\n",
       "      <th>8</th>\n",
       "      <td>-6.370831</td>\n",
       "      <td>-0.470</td>\n",
       "      <td>6.720000e+10</td>\n",
       "    </tr>\n",
       "    <tr>\n",
       "      <th>9</th>\n",
       "      <td>-10.176833</td>\n",
       "      <td>-0.290</td>\n",
       "      <td>8.920000e+10</td>\n",
       "    </tr>\n",
       "    <tr>\n",
       "      <th>10</th>\n",
       "      <td>-5.826581</td>\n",
       "      <td>-0.040</td>\n",
       "      <td>1.120000e+11</td>\n",
       "    </tr>\n",
       "    <tr>\n",
       "      <th>11</th>\n",
       "      <td>-9.986108</td>\n",
       "      <td>0.170</td>\n",
       "      <td>1.490000e+11</td>\n",
       "    </tr>\n",
       "    <tr>\n",
       "      <th>12</th>\n",
       "      <td>-21.387360</td>\n",
       "      <td>0.040</td>\n",
       "      <td>1.880000e+11</td>\n",
       "    </tr>\n",
       "    <tr>\n",
       "      <th>13</th>\n",
       "      <td>-16.236740</td>\n",
       "      <td>-0.300</td>\n",
       "      <td>1.220000e+11</td>\n",
       "    </tr>\n",
       "    <tr>\n",
       "      <th>14</th>\n",
       "      <td>-7.732888</td>\n",
       "      <td>0.010</td>\n",
       "      <td>1.410000e+11</td>\n",
       "    </tr>\n",
       "    <tr>\n",
       "      <th>15</th>\n",
       "      <td>-4.798883</td>\n",
       "      <td>-0.070</td>\n",
       "      <td>1.690000e+11</td>\n",
       "    </tr>\n",
       "    <tr>\n",
       "      <th>16</th>\n",
       "      <td>1.500609</td>\n",
       "      <td>-0.090</td>\n",
       "      <td>1.830000e+11</td>\n",
       "    </tr>\n",
       "    <tr>\n",
       "      <th>17</th>\n",
       "      <td>1.703783</td>\n",
       "      <td>-0.780</td>\n",
       "      <td>1.900000e+11</td>\n",
       "    </tr>\n",
       "    <tr>\n",
       "      <th>18</th>\n",
       "      <td>-10.449637</td>\n",
       "      <td>-2.020</td>\n",
       "      <td>1.340000e+11</td>\n",
       "    </tr>\n",
       "    <tr>\n",
       "      <th>19</th>\n",
       "      <td>-48.581233</td>\n",
       "      <td>-1.960</td>\n",
       "      <td>9.100000e+10</td>\n",
       "    </tr>\n",
       "    <tr>\n",
       "      <th>20</th>\n",
       "      <td>-12.651127</td>\n",
       "      <td>-1.860</td>\n",
       "      <td>9.340000e+10</td>\n",
       "    </tr>\n",
       "    <tr>\n",
       "      <th>21</th>\n",
       "      <td>-12.308210</td>\n",
       "      <td>-1.870</td>\n",
       "      <td>1.120000e+11</td>\n",
       "    </tr>\n",
       "    <tr>\n",
       "      <th>22</th>\n",
       "      <td>-8.509277</td>\n",
       "      <td>-1.870</td>\n",
       "      <td>1.310000e+11</td>\n",
       "    </tr>\n",
       "    <tr>\n",
       "      <th>23</th>\n",
       "      <td>-6.074507</td>\n",
       "      <td>-1.420</td>\n",
       "      <td>1.540000e+11</td>\n",
       "    </tr>\n",
       "    <tr>\n",
       "      <th>24</th>\n",
       "      <td>-1.498908</td>\n",
       "      <td>-1.160</td>\n",
       "      <td>1.570000e+11</td>\n",
       "    </tr>\n",
       "  </tbody>\n",
       "</table>\n",
       "</div>"
      ],
      "text/plain": [
       "    Differential Inflation  Political Stability           GDP\n",
       "0               -77.394296               -0.150  4.460000e+10\n",
       "1               -13.602910               -0.135  5.020000e+10\n",
       "2                -9.024881               -0.120  4.190000e+10\n",
       "3               -20.495643               -0.265  3.160000e+10\n",
       "4               -24.826243               -0.410  3.240000e+10\n",
       "5                -9.132639               -0.355  3.930000e+10\n",
       "6                 0.828611               -0.300  4.400000e+10\n",
       "7                -2.909583               -0.360  5.200000e+10\n",
       "8                -6.370831               -0.470  6.720000e+10\n",
       "9               -10.176833               -0.290  8.920000e+10\n",
       "10               -5.826581               -0.040  1.120000e+11\n",
       "11               -9.986108                0.170  1.490000e+11\n",
       "12              -21.387360                0.040  1.880000e+11\n",
       "13              -16.236740               -0.300  1.220000e+11\n",
       "14               -7.732888                0.010  1.410000e+11\n",
       "15               -4.798883               -0.070  1.690000e+11\n",
       "16                1.500609               -0.090  1.830000e+11\n",
       "17                1.703783               -0.780  1.900000e+11\n",
       "18              -10.449637               -2.020  1.340000e+11\n",
       "19              -48.581233               -1.960  9.100000e+10\n",
       "20              -12.651127               -1.860  9.340000e+10\n",
       "21              -12.308210               -1.870  1.120000e+11\n",
       "22               -8.509277               -1.870  1.310000e+11\n",
       "23               -6.074507               -1.420  1.540000e+11\n",
       "24               -1.498908               -1.160  1.570000e+11"
      ]
     },
     "execution_count": 47,
     "metadata": {},
     "output_type": "execute_result"
    }
   ],
   "source": [
    "X"
   ]
  },
  {
   "cell_type": "code",
   "execution_count": 48,
   "id": "32cc242f",
   "metadata": {},
   "outputs": [
    {
     "name": "stderr",
     "output_type": "stream",
     "text": [
      "C:\\Users\\bhuvn\\anaconda3\\lib\\site-packages\\statsmodels\\tsa\\tsatools.py:142: FutureWarning: In a future version of pandas all arguments of concat except for the argument 'objs' will be keyword-only\n",
      "  x = pd.concat(x[::order], 1)\n"
     ]
    },
    {
     "data": {
      "text/plain": [
       "array([ 5.26186046e-01,  2.89839573e-02, -1.00944996e+01,  3.72035067e-11])"
      ]
     },
     "execution_count": 48,
     "metadata": {},
     "output_type": "execute_result"
    }
   ],
   "source": [
    "x = sm.add_constant(X)\n",
    "model = sm.OLS(y,x)\n",
    "model1 = model.fit()\n",
    "np.array(model1.params)"
   ]
  },
  {
   "cell_type": "code",
   "execution_count": 49,
   "id": "c95f1951",
   "metadata": {},
   "outputs": [
    {
     "data": {
      "text/html": [
       "<table class=\"simpletable\">\n",
       "<caption>OLS Regression Results</caption>\n",
       "<tr>\n",
       "  <th>Dep. Variable:</th>      <td>Exchange Rate</td>  <th>  R-squared:         </th> <td>   0.791</td>\n",
       "</tr>\n",
       "<tr>\n",
       "  <th>Model:</th>                   <td>OLS</td>       <th>  Adj. R-squared:    </th> <td>   0.761</td>\n",
       "</tr>\n",
       "<tr>\n",
       "  <th>Method:</th>             <td>Least Squares</td>  <th>  F-statistic:       </th> <td>   26.49</td>\n",
       "</tr>\n",
       "<tr>\n",
       "  <th>Date:</th>             <td>Fri, 08 Jul 2022</td> <th>  Prob (F-statistic):</th> <td>2.47e-07</td>\n",
       "</tr>\n",
       "<tr>\n",
       "  <th>Time:</th>                 <td>15:08:08</td>     <th>  Log-Likelihood:    </th> <td> -70.283</td>\n",
       "</tr>\n",
       "<tr>\n",
       "  <th>No. Observations:</th>      <td>    25</td>      <th>  AIC:               </th> <td>   148.6</td>\n",
       "</tr>\n",
       "<tr>\n",
       "  <th>Df Residuals:</th>          <td>    21</td>      <th>  BIC:               </th> <td>   153.4</td>\n",
       "</tr>\n",
       "<tr>\n",
       "  <th>Df Model:</th>              <td>     3</td>      <th>                     </th>     <td> </td>   \n",
       "</tr>\n",
       "<tr>\n",
       "  <th>Covariance Type:</th>      <td>nonrobust</td>    <th>                     </th>     <td> </td>   \n",
       "</tr>\n",
       "</table>\n",
       "<table class=\"simpletable\">\n",
       "<tr>\n",
       "             <td></td>               <th>coef</th>     <th>std err</th>      <th>t</th>      <th>P>|t|</th>  <th>[0.025</th>    <th>0.975]</th>  \n",
       "</tr>\n",
       "<tr>\n",
       "  <th>const</th>                  <td>    0.5262</td> <td>    2.440</td> <td>    0.216</td> <td> 0.831</td> <td>   -4.547</td> <td>    5.600</td>\n",
       "</tr>\n",
       "<tr>\n",
       "  <th>Differential Inflation</th> <td>    0.0290</td> <td>    0.057</td> <td>    0.512</td> <td> 0.614</td> <td>   -0.089</td> <td>    0.147</td>\n",
       "</tr>\n",
       "<tr>\n",
       "  <th>Political Stability</th>    <td>  -10.0945</td> <td>    1.230</td> <td>   -8.209</td> <td> 0.000</td> <td>  -12.652</td> <td>   -7.537</td>\n",
       "</tr>\n",
       "<tr>\n",
       "  <th>GDP</th>                    <td>  3.72e-11</td> <td>  1.8e-11</td> <td>    2.066</td> <td> 0.051</td> <td>-2.44e-13</td> <td> 7.47e-11</td>\n",
       "</tr>\n",
       "</table>\n",
       "<table class=\"simpletable\">\n",
       "<tr>\n",
       "  <th>Omnibus:</th>       <td>16.232</td> <th>  Durbin-Watson:     </th> <td>   0.804</td>\n",
       "</tr>\n",
       "<tr>\n",
       "  <th>Prob(Omnibus):</th> <td> 0.000</td> <th>  Jarque-Bera (JB):  </th> <td>  23.522</td>\n",
       "</tr>\n",
       "<tr>\n",
       "  <th>Skew:</th>          <td>-1.249</td> <th>  Prob(JB):          </th> <td>7.80e-06</td>\n",
       "</tr>\n",
       "<tr>\n",
       "  <th>Kurtosis:</th>      <td> 7.042</td> <th>  Cond. No.          </th> <td>3.27e+11</td>\n",
       "</tr>\n",
       "</table><br/><br/>Notes:<br/>[1] Standard Errors assume that the covariance matrix of the errors is correctly specified.<br/>[2] The condition number is large, 3.27e+11. This might indicate that there are<br/>strong multicollinearity or other numerical problems."
      ],
      "text/plain": [
       "<class 'statsmodels.iolib.summary.Summary'>\n",
       "\"\"\"\n",
       "                            OLS Regression Results                            \n",
       "==============================================================================\n",
       "Dep. Variable:          Exchange Rate   R-squared:                       0.791\n",
       "Model:                            OLS   Adj. R-squared:                  0.761\n",
       "Method:                 Least Squares   F-statistic:                     26.49\n",
       "Date:                Fri, 08 Jul 2022   Prob (F-statistic):           2.47e-07\n",
       "Time:                        15:08:08   Log-Likelihood:                -70.283\n",
       "No. Observations:                  25   AIC:                             148.6\n",
       "Df Residuals:                      21   BIC:                             153.4\n",
       "Df Model:                           3                                         \n",
       "Covariance Type:            nonrobust                                         \n",
       "==========================================================================================\n",
       "                             coef    std err          t      P>|t|      [0.025      0.975]\n",
       "------------------------------------------------------------------------------------------\n",
       "const                      0.5262      2.440      0.216      0.831      -4.547       5.600\n",
       "Differential Inflation     0.0290      0.057      0.512      0.614      -0.089       0.147\n",
       "Political Stability      -10.0945      1.230     -8.209      0.000     -12.652      -7.537\n",
       "GDP                      3.72e-11    1.8e-11      2.066      0.051   -2.44e-13    7.47e-11\n",
       "==============================================================================\n",
       "Omnibus:                       16.232   Durbin-Watson:                   0.804\n",
       "Prob(Omnibus):                  0.000   Jarque-Bera (JB):               23.522\n",
       "Skew:                          -1.249   Prob(JB):                     7.80e-06\n",
       "Kurtosis:                       7.042   Cond. No.                     3.27e+11\n",
       "==============================================================================\n",
       "\n",
       "Notes:\n",
       "[1] Standard Errors assume that the covariance matrix of the errors is correctly specified.\n",
       "[2] The condition number is large, 3.27e+11. This might indicate that there are\n",
       "strong multicollinearity or other numerical problems.\n",
       "\"\"\""
      ]
     },
     "execution_count": 49,
     "metadata": {},
     "output_type": "execute_result"
    }
   ],
   "source": [
    "model1.summary()"
   ]
  },
  {
   "cell_type": "markdown",
   "id": "0b85e958",
   "metadata": {},
   "source": [
    "#### Finding VIF"
   ]
  },
  {
   "cell_type": "code",
   "execution_count": 50,
   "id": "ad560fee",
   "metadata": {},
   "outputs": [],
   "source": [
    "from statsmodels.stats.outliers_influence import variance_inflation_factor"
   ]
  },
  {
   "cell_type": "code",
   "execution_count": 51,
   "id": "e6ab9b6a",
   "metadata": {},
   "outputs": [],
   "source": [
    "vif_data = pd.DataFrame()\n",
    "vif_data[\"feature\"] = X.columns\n",
    "  \n",
    "# calculating VIF for each feature\n",
    "vif_data[\"VIF\"] = [variance_inflation_factor(X.values, i)\n",
    "                          for i in range(len(X.columns))]"
   ]
  },
  {
   "cell_type": "code",
   "execution_count": 52,
   "id": "8e865114",
   "metadata": {},
   "outputs": [
    {
     "data": {
      "text/html": [
       "<div>\n",
       "<style scoped>\n",
       "    .dataframe tbody tr th:only-of-type {\n",
       "        vertical-align: middle;\n",
       "    }\n",
       "\n",
       "    .dataframe tbody tr th {\n",
       "        vertical-align: top;\n",
       "    }\n",
       "\n",
       "    .dataframe thead th {\n",
       "        text-align: right;\n",
       "    }\n",
       "</style>\n",
       "<table border=\"1\" class=\"dataframe\">\n",
       "  <thead>\n",
       "    <tr style=\"text-align: right;\">\n",
       "      <th></th>\n",
       "      <th>feature</th>\n",
       "      <th>VIF</th>\n",
       "    </tr>\n",
       "  </thead>\n",
       "  <tbody>\n",
       "    <tr>\n",
       "      <th>0</th>\n",
       "      <td>Differential Inflation</td>\n",
       "      <td>1.322676</td>\n",
       "    </tr>\n",
       "    <tr>\n",
       "      <th>1</th>\n",
       "      <td>Political Stability</td>\n",
       "      <td>1.780648</td>\n",
       "    </tr>\n",
       "    <tr>\n",
       "      <th>2</th>\n",
       "      <td>GDP</td>\n",
       "      <td>1.779999</td>\n",
       "    </tr>\n",
       "  </tbody>\n",
       "</table>\n",
       "</div>"
      ],
      "text/plain": [
       "                  feature       VIF\n",
       "0  Differential Inflation  1.322676\n",
       "1     Political Stability  1.780648\n",
       "2                     GDP  1.779999"
      ]
     },
     "execution_count": 52,
     "metadata": {},
     "output_type": "execute_result"
    }
   ],
   "source": [
    "vif_data"
   ]
  },
  {
   "cell_type": "code",
   "execution_count": 53,
   "id": "16b73821",
   "metadata": {},
   "outputs": [],
   "source": [
    "y_pred= 0.5262 + 0.0290*data['Differential Inflation'][0:25] - 10.0945*data['Political Stability'][:25] + 3.72e-11* data['GDP'][:25]"
   ]
  },
  {
   "cell_type": "markdown",
   "id": "3a29e6a2",
   "metadata": {},
   "source": [
    "#### Evaluating the Model"
   ]
  },
  {
   "cell_type": "code",
   "execution_count": 54,
   "id": "ac57c655",
   "metadata": {},
   "outputs": [],
   "source": [
    "from sklearn.metrics import r2_score, mean_absolute_error , mean_squared_error"
   ]
  },
  {
   "cell_type": "code",
   "execution_count": 55,
   "id": "4f1411a9",
   "metadata": {},
   "outputs": [
    {
     "data": {
      "text/plain": [
       "0.7357875869614166"
      ]
     },
     "execution_count": 55,
     "metadata": {},
     "output_type": "execute_result"
    }
   ],
   "source": [
    "r2_score(y_pred,y)"
   ]
  },
  {
   "cell_type": "code",
   "execution_count": 56,
   "id": "2335de2e",
   "metadata": {},
   "outputs": [
    {
     "data": {
      "text/plain": [
       "4.024497516701569"
      ]
     },
     "execution_count": 56,
     "metadata": {},
     "output_type": "execute_result"
    }
   ],
   "source": [
    "RMSE = np.sqrt(mean_squared_error(y_pred,y))\n",
    "RMSE"
   ]
  },
  {
   "cell_type": "code",
   "execution_count": 57,
   "id": "67f051b4",
   "metadata": {},
   "outputs": [
    {
     "data": {
      "text/plain": [
       "2.3673047898800004"
      ]
     },
     "execution_count": 57,
     "metadata": {},
     "output_type": "execute_result"
    }
   ],
   "source": [
    "MSE = mean_absolute_error(y_pred,y)\n",
    "MSE"
   ]
  },
  {
   "cell_type": "markdown",
   "id": "da15082d",
   "metadata": {},
   "source": [
    "## Forecasting Using Model 4"
   ]
  },
  {
   "cell_type": "markdown",
   "id": "6478bd25",
   "metadata": {},
   "source": [
    "### Using Real Interest Rate, Political Stability, GDP"
   ]
  },
  {
   "cell_type": "code",
   "execution_count": 58,
   "id": "1a8b01a8",
   "metadata": {},
   "outputs": [],
   "source": [
    "import statsmodels.api as sm"
   ]
  },
  {
   "cell_type": "code",
   "execution_count": 59,
   "id": "c1eca73a",
   "metadata": {},
   "outputs": [
    {
     "data": {
      "text/html": [
       "<div>\n",
       "<style scoped>\n",
       "    .dataframe tbody tr th:only-of-type {\n",
       "        vertical-align: middle;\n",
       "    }\n",
       "\n",
       "    .dataframe tbody tr th {\n",
       "        vertical-align: top;\n",
       "    }\n",
       "\n",
       "    .dataframe thead th {\n",
       "        text-align: right;\n",
       "    }\n",
       "</style>\n",
       "<table border=\"1\" class=\"dataframe\">\n",
       "  <thead>\n",
       "    <tr style=\"text-align: right;\">\n",
       "      <th></th>\n",
       "      <th>YEAR</th>\n",
       "      <th>Balance Of Payment</th>\n",
       "      <th>GDP</th>\n",
       "      <th>Political Stability</th>\n",
       "      <th>Real Interest Rate</th>\n",
       "      <th>Exchange Rate</th>\n",
       "      <th>Differential Inflation</th>\n",
       "    </tr>\n",
       "  </thead>\n",
       "  <tbody>\n",
       "    <tr>\n",
       "      <th>0</th>\n",
       "      <td>1996</td>\n",
       "      <td>-1184000000</td>\n",
       "      <td>4.460000e+10</td>\n",
       "      <td>-0.150</td>\n",
       "      <td>8.268450</td>\n",
       "      <td>1.829469</td>\n",
       "      <td>-77.394296</td>\n",
       "    </tr>\n",
       "    <tr>\n",
       "      <th>1</th>\n",
       "      <td>1997</td>\n",
       "      <td>-1335000000</td>\n",
       "      <td>5.020000e+10</td>\n",
       "      <td>-0.135</td>\n",
       "      <td>26.291076</td>\n",
       "      <td>1.861658</td>\n",
       "      <td>-13.602910</td>\n",
       "    </tr>\n",
       "  </tbody>\n",
       "</table>\n",
       "</div>"
      ],
      "text/plain": [
       "   YEAR  Balance Of Payment           GDP  Political Stability  \\\n",
       "0  1996         -1184000000  4.460000e+10               -0.150   \n",
       "1  1997         -1335000000  5.020000e+10               -0.135   \n",
       "\n",
       "   Real Interest Rate  Exchange Rate  Differential Inflation  \n",
       "0            8.268450       1.829469              -77.394296  \n",
       "1           26.291076       1.861658              -13.602910  "
      ]
     },
     "execution_count": 59,
     "metadata": {},
     "output_type": "execute_result"
    }
   ],
   "source": [
    "data.head(2)"
   ]
  },
  {
   "cell_type": "code",
   "execution_count": 60,
   "id": "59d9e22a",
   "metadata": {},
   "outputs": [],
   "source": [
    "X=data[['Real Interest Rate','Political Stability', 'GDP']][:25]"
   ]
  },
  {
   "cell_type": "code",
   "execution_count": 61,
   "id": "4cb14950",
   "metadata": {},
   "outputs": [],
   "source": [
    "y = data[['Exchange Rate']][:25]"
   ]
  },
  {
   "cell_type": "code",
   "execution_count": 62,
   "id": "837a8d71",
   "metadata": {},
   "outputs": [
    {
     "data": {
      "text/html": [
       "<div>\n",
       "<style scoped>\n",
       "    .dataframe tbody tr th:only-of-type {\n",
       "        vertical-align: middle;\n",
       "    }\n",
       "\n",
       "    .dataframe tbody tr th {\n",
       "        vertical-align: top;\n",
       "    }\n",
       "\n",
       "    .dataframe thead th {\n",
       "        text-align: right;\n",
       "    }\n",
       "</style>\n",
       "<table border=\"1\" class=\"dataframe\">\n",
       "  <thead>\n",
       "    <tr style=\"text-align: right;\">\n",
       "      <th></th>\n",
       "      <th>Real Interest Rate</th>\n",
       "      <th>Political Stability</th>\n",
       "      <th>GDP</th>\n",
       "    </tr>\n",
       "  </thead>\n",
       "  <tbody>\n",
       "    <tr>\n",
       "      <th>0</th>\n",
       "      <td>8.268450</td>\n",
       "      <td>-0.150</td>\n",
       "      <td>4.460000e+10</td>\n",
       "    </tr>\n",
       "    <tr>\n",
       "      <th>1</th>\n",
       "      <td>26.291076</td>\n",
       "      <td>-0.135</td>\n",
       "      <td>5.020000e+10</td>\n",
       "    </tr>\n",
       "    <tr>\n",
       "      <th>2</th>\n",
       "      <td>37.928652</td>\n",
       "      <td>-0.120</td>\n",
       "      <td>4.190000e+10</td>\n",
       "    </tr>\n",
       "    <tr>\n",
       "      <th>3</th>\n",
       "      <td>21.626836</td>\n",
       "      <td>-0.265</td>\n",
       "      <td>3.160000e+10</td>\n",
       "    </tr>\n",
       "    <tr>\n",
       "      <th>4</th>\n",
       "      <td>11.001457</td>\n",
       "      <td>-0.410</td>\n",
       "      <td>3.240000e+10</td>\n",
       "    </tr>\n",
       "    <tr>\n",
       "      <th>5</th>\n",
       "      <td>20.033462</td>\n",
       "      <td>-0.355</td>\n",
       "      <td>3.930000e+10</td>\n",
       "    </tr>\n",
       "    <tr>\n",
       "      <th>6</th>\n",
       "      <td>19.092639</td>\n",
       "      <td>-0.300</td>\n",
       "      <td>4.400000e+10</td>\n",
       "    </tr>\n",
       "    <tr>\n",
       "      <th>7</th>\n",
       "      <td>8.996081</td>\n",
       "      <td>-0.360</td>\n",
       "      <td>5.200000e+10</td>\n",
       "    </tr>\n",
       "    <tr>\n",
       "      <th>8</th>\n",
       "      <td>1.812918</td>\n",
       "      <td>-0.470</td>\n",
       "      <td>6.720000e+10</td>\n",
       "    </tr>\n",
       "    <tr>\n",
       "      <th>9</th>\n",
       "      <td>-6.383677</td>\n",
       "      <td>-0.290</td>\n",
       "      <td>8.920000e+10</td>\n",
       "    </tr>\n",
       "    <tr>\n",
       "      <th>10</th>\n",
       "      <td>0.275720</td>\n",
       "      <td>-0.040</td>\n",
       "      <td>1.120000e+11</td>\n",
       "    </tr>\n",
       "    <tr>\n",
       "      <th>11</th>\n",
       "      <td>-7.280207</td>\n",
       "      <td>0.170</td>\n",
       "      <td>1.490000e+11</td>\n",
       "    </tr>\n",
       "    <tr>\n",
       "      <th>12</th>\n",
       "      <td>-8.934742</td>\n",
       "      <td>0.040</td>\n",
       "      <td>1.880000e+11</td>\n",
       "    </tr>\n",
       "    <tr>\n",
       "      <th>13</th>\n",
       "      <td>7.310139</td>\n",
       "      <td>-0.300</td>\n",
       "      <td>1.220000e+11</td>\n",
       "    </tr>\n",
       "    <tr>\n",
       "      <th>14</th>\n",
       "      <td>1.931117</td>\n",
       "      <td>0.010</td>\n",
       "      <td>1.410000e+11</td>\n",
       "    </tr>\n",
       "    <tr>\n",
       "      <th>15</th>\n",
       "      <td>1.546056</td>\n",
       "      <td>-0.070</td>\n",
       "      <td>1.690000e+11</td>\n",
       "    </tr>\n",
       "    <tr>\n",
       "      <th>16</th>\n",
       "      <td>9.640127</td>\n",
       "      <td>-0.090</td>\n",
       "      <td>1.830000e+11</td>\n",
       "    </tr>\n",
       "    <tr>\n",
       "      <th>17</th>\n",
       "      <td>11.830648</td>\n",
       "      <td>-0.780</td>\n",
       "      <td>1.900000e+11</td>\n",
       "    </tr>\n",
       "    <tr>\n",
       "      <th>18</th>\n",
       "      <td>1.567107</td>\n",
       "      <td>-2.020</td>\n",
       "      <td>1.340000e+11</td>\n",
       "    </tr>\n",
       "    <tr>\n",
       "      <th>19</th>\n",
       "      <td>-12.282929</td>\n",
       "      <td>-1.960</td>\n",
       "      <td>9.100000e+10</td>\n",
       "    </tr>\n",
       "    <tr>\n",
       "      <th>20</th>\n",
       "      <td>1.827570</td>\n",
       "      <td>-1.860</td>\n",
       "      <td>9.340000e+10</td>\n",
       "    </tr>\n",
       "    <tr>\n",
       "      <th>21</th>\n",
       "      <td>-4.680484</td>\n",
       "      <td>-1.870</td>\n",
       "      <td>1.120000e+11</td>\n",
       "    </tr>\n",
       "    <tr>\n",
       "      <th>22</th>\n",
       "      <td>3.125122</td>\n",
       "      <td>-1.870</td>\n",
       "      <td>1.310000e+11</td>\n",
       "    </tr>\n",
       "    <tr>\n",
       "      <th>23</th>\n",
       "      <td>10.693659</td>\n",
       "      <td>-1.420</td>\n",
       "      <td>1.540000e+11</td>\n",
       "    </tr>\n",
       "    <tr>\n",
       "      <th>24</th>\n",
       "      <td>3.624333</td>\n",
       "      <td>-1.160</td>\n",
       "      <td>1.570000e+11</td>\n",
       "    </tr>\n",
       "  </tbody>\n",
       "</table>\n",
       "</div>"
      ],
      "text/plain": [
       "    Real Interest Rate  Political Stability           GDP\n",
       "0             8.268450               -0.150  4.460000e+10\n",
       "1            26.291076               -0.135  5.020000e+10\n",
       "2            37.928652               -0.120  4.190000e+10\n",
       "3            21.626836               -0.265  3.160000e+10\n",
       "4            11.001457               -0.410  3.240000e+10\n",
       "5            20.033462               -0.355  3.930000e+10\n",
       "6            19.092639               -0.300  4.400000e+10\n",
       "7             8.996081               -0.360  5.200000e+10\n",
       "8             1.812918               -0.470  6.720000e+10\n",
       "9            -6.383677               -0.290  8.920000e+10\n",
       "10            0.275720               -0.040  1.120000e+11\n",
       "11           -7.280207                0.170  1.490000e+11\n",
       "12           -8.934742                0.040  1.880000e+11\n",
       "13            7.310139               -0.300  1.220000e+11\n",
       "14            1.931117                0.010  1.410000e+11\n",
       "15            1.546056               -0.070  1.690000e+11\n",
       "16            9.640127               -0.090  1.830000e+11\n",
       "17           11.830648               -0.780  1.900000e+11\n",
       "18            1.567107               -2.020  1.340000e+11\n",
       "19          -12.282929               -1.960  9.100000e+10\n",
       "20            1.827570               -1.860  9.340000e+10\n",
       "21           -4.680484               -1.870  1.120000e+11\n",
       "22            3.125122               -1.870  1.310000e+11\n",
       "23           10.693659               -1.420  1.540000e+11\n",
       "24            3.624333               -1.160  1.570000e+11"
      ]
     },
     "execution_count": 62,
     "metadata": {},
     "output_type": "execute_result"
    }
   ],
   "source": [
    "X"
   ]
  },
  {
   "cell_type": "code",
   "execution_count": 63,
   "id": "32cc242f",
   "metadata": {},
   "outputs": [
    {
     "name": "stderr",
     "output_type": "stream",
     "text": [
      "C:\\Users\\bhuvn\\anaconda3\\lib\\site-packages\\statsmodels\\tsa\\tsatools.py:142: FutureWarning: In a future version of pandas all arguments of concat except for the argument 'objs' will be keyword-only\n",
      "  x = pd.concat(x[::order], 1)\n"
     ]
    },
    {
     "data": {
      "text/plain": [
       "array([-6.31218007e-02, -4.70650854e-03, -1.00153131e+01,  3.99007017e-11])"
      ]
     },
     "execution_count": 63,
     "metadata": {},
     "output_type": "execute_result"
    }
   ],
   "source": [
    "x = sm.add_constant(X)\n",
    "model = sm.OLS(y,x)\n",
    "model1 = model.fit()\n",
    "np.array(model1.params)"
   ]
  },
  {
   "cell_type": "code",
   "execution_count": 64,
   "id": "c95f1951",
   "metadata": {},
   "outputs": [
    {
     "data": {
      "text/html": [
       "<table class=\"simpletable\">\n",
       "<caption>OLS Regression Results</caption>\n",
       "<tr>\n",
       "  <th>Dep. Variable:</th>      <td>Exchange Rate</td>  <th>  R-squared:         </th> <td>   0.788</td>\n",
       "</tr>\n",
       "<tr>\n",
       "  <th>Model:</th>                   <td>OLS</td>       <th>  Adj. R-squared:    </th> <td>   0.758</td>\n",
       "</tr>\n",
       "<tr>\n",
       "  <th>Method:</th>             <td>Least Squares</td>  <th>  F-statistic:       </th> <td>   26.09</td>\n",
       "</tr>\n",
       "<tr>\n",
       "  <th>Date:</th>             <td>Fri, 08 Jul 2022</td> <th>  Prob (F-statistic):</th> <td>2.81e-07</td>\n",
       "</tr>\n",
       "<tr>\n",
       "  <th>Time:</th>                 <td>15:08:09</td>     <th>  Log-Likelihood:    </th> <td> -70.437</td>\n",
       "</tr>\n",
       "<tr>\n",
       "  <th>No. Observations:</th>      <td>    25</td>      <th>  AIC:               </th> <td>   148.9</td>\n",
       "</tr>\n",
       "<tr>\n",
       "  <th>Df Residuals:</th>          <td>    21</td>      <th>  BIC:               </th> <td>   153.7</td>\n",
       "</tr>\n",
       "<tr>\n",
       "  <th>Df Model:</th>              <td>     3</td>      <th>                     </th>     <td> </td>   \n",
       "</tr>\n",
       "<tr>\n",
       "  <th>Covariance Type:</th>      <td>nonrobust</td>    <th>                     </th>     <td> </td>   \n",
       "</tr>\n",
       "</table>\n",
       "<table class=\"simpletable\">\n",
       "<tr>\n",
       "           <td></td>              <th>coef</th>     <th>std err</th>      <th>t</th>      <th>P>|t|</th>  <th>[0.025</th>    <th>0.975]</th>  \n",
       "</tr>\n",
       "<tr>\n",
       "  <th>const</th>               <td>   -0.0631</td> <td>    2.781</td> <td>   -0.023</td> <td> 0.982</td> <td>   -5.846</td> <td>    5.719</td>\n",
       "</tr>\n",
       "<tr>\n",
       "  <th>Real Interest Rate</th>  <td>   -0.0047</td> <td>    0.093</td> <td>   -0.051</td> <td> 0.960</td> <td>   -0.198</td> <td>    0.189</td>\n",
       "</tr>\n",
       "<tr>\n",
       "  <th>Political Stability</th> <td>  -10.0153</td> <td>    1.278</td> <td>   -7.835</td> <td> 0.000</td> <td>  -12.674</td> <td>   -7.357</td>\n",
       "</tr>\n",
       "<tr>\n",
       "  <th>GDP</th>                 <td>  3.99e-11</td> <td> 1.96e-11</td> <td>    2.035</td> <td> 0.055</td> <td>-8.79e-13</td> <td> 8.07e-11</td>\n",
       "</tr>\n",
       "</table>\n",
       "<table class=\"simpletable\">\n",
       "<tr>\n",
       "  <th>Omnibus:</th>       <td>14.654</td> <th>  Durbin-Watson:     </th> <td>   0.756</td>\n",
       "</tr>\n",
       "<tr>\n",
       "  <th>Prob(Omnibus):</th> <td> 0.001</td> <th>  Jarque-Bera (JB):  </th> <td>  20.282</td>\n",
       "</tr>\n",
       "<tr>\n",
       "  <th>Skew:</th>          <td>-1.124</td> <th>  Prob(JB):          </th> <td>3.94e-05</td>\n",
       "</tr>\n",
       "<tr>\n",
       "  <th>Kurtosis:</th>      <td> 6.797</td> <th>  Cond. No.          </th> <td>3.75e+11</td>\n",
       "</tr>\n",
       "</table><br/><br/>Notes:<br/>[1] Standard Errors assume that the covariance matrix of the errors is correctly specified.<br/>[2] The condition number is large, 3.75e+11. This might indicate that there are<br/>strong multicollinearity or other numerical problems."
      ],
      "text/plain": [
       "<class 'statsmodels.iolib.summary.Summary'>\n",
       "\"\"\"\n",
       "                            OLS Regression Results                            \n",
       "==============================================================================\n",
       "Dep. Variable:          Exchange Rate   R-squared:                       0.788\n",
       "Model:                            OLS   Adj. R-squared:                  0.758\n",
       "Method:                 Least Squares   F-statistic:                     26.09\n",
       "Date:                Fri, 08 Jul 2022   Prob (F-statistic):           2.81e-07\n",
       "Time:                        15:08:09   Log-Likelihood:                -70.437\n",
       "No. Observations:                  25   AIC:                             148.9\n",
       "Df Residuals:                      21   BIC:                             153.7\n",
       "Df Model:                           3                                         \n",
       "Covariance Type:            nonrobust                                         \n",
       "=======================================================================================\n",
       "                          coef    std err          t      P>|t|      [0.025      0.975]\n",
       "---------------------------------------------------------------------------------------\n",
       "const                  -0.0631      2.781     -0.023      0.982      -5.846       5.719\n",
       "Real Interest Rate     -0.0047      0.093     -0.051      0.960      -0.198       0.189\n",
       "Political Stability   -10.0153      1.278     -7.835      0.000     -12.674      -7.357\n",
       "GDP                   3.99e-11   1.96e-11      2.035      0.055   -8.79e-13    8.07e-11\n",
       "==============================================================================\n",
       "Omnibus:                       14.654   Durbin-Watson:                   0.756\n",
       "Prob(Omnibus):                  0.001   Jarque-Bera (JB):               20.282\n",
       "Skew:                          -1.124   Prob(JB):                     3.94e-05\n",
       "Kurtosis:                       6.797   Cond. No.                     3.75e+11\n",
       "==============================================================================\n",
       "\n",
       "Notes:\n",
       "[1] Standard Errors assume that the covariance matrix of the errors is correctly specified.\n",
       "[2] The condition number is large, 3.75e+11. This might indicate that there are\n",
       "strong multicollinearity or other numerical problems.\n",
       "\"\"\""
      ]
     },
     "execution_count": 64,
     "metadata": {},
     "output_type": "execute_result"
    }
   ],
   "source": [
    "model1.summary()"
   ]
  },
  {
   "cell_type": "markdown",
   "id": "0b85e958",
   "metadata": {},
   "source": [
    "#### Finding VIF"
   ]
  },
  {
   "cell_type": "code",
   "execution_count": 65,
   "id": "ad560fee",
   "metadata": {},
   "outputs": [],
   "source": [
    "from statsmodels.stats.outliers_influence import variance_inflation_factor"
   ]
  },
  {
   "cell_type": "code",
   "execution_count": 66,
   "id": "e6ab9b6a",
   "metadata": {},
   "outputs": [],
   "source": [
    "vif_data = pd.DataFrame()\n",
    "vif_data[\"feature\"] = X.columns\n",
    "  \n",
    "# calculating VIF for each feature\n",
    "vif_data[\"VIF\"] = [variance_inflation_factor(X.values, i)\n",
    "                          for i in range(len(X.columns))]"
   ]
  },
  {
   "cell_type": "code",
   "execution_count": 67,
   "id": "8e865114",
   "metadata": {},
   "outputs": [
    {
     "data": {
      "text/html": [
       "<div>\n",
       "<style scoped>\n",
       "    .dataframe tbody tr th:only-of-type {\n",
       "        vertical-align: middle;\n",
       "    }\n",
       "\n",
       "    .dataframe tbody tr th {\n",
       "        vertical-align: top;\n",
       "    }\n",
       "\n",
       "    .dataframe thead th {\n",
       "        text-align: right;\n",
       "    }\n",
       "</style>\n",
       "<table border=\"1\" class=\"dataframe\">\n",
       "  <thead>\n",
       "    <tr style=\"text-align: right;\">\n",
       "      <th></th>\n",
       "      <th>feature</th>\n",
       "      <th>VIF</th>\n",
       "    </tr>\n",
       "  </thead>\n",
       "  <tbody>\n",
       "    <tr>\n",
       "      <th>0</th>\n",
       "      <td>Real Interest Rate</td>\n",
       "      <td>1.071634</td>\n",
       "    </tr>\n",
       "    <tr>\n",
       "      <th>1</th>\n",
       "      <td>Political Stability</td>\n",
       "      <td>1.682532</td>\n",
       "    </tr>\n",
       "    <tr>\n",
       "      <th>2</th>\n",
       "      <td>GDP</td>\n",
       "      <td>1.762744</td>\n",
       "    </tr>\n",
       "  </tbody>\n",
       "</table>\n",
       "</div>"
      ],
      "text/plain": [
       "               feature       VIF\n",
       "0   Real Interest Rate  1.071634\n",
       "1  Political Stability  1.682532\n",
       "2                  GDP  1.762744"
      ]
     },
     "execution_count": 67,
     "metadata": {},
     "output_type": "execute_result"
    }
   ],
   "source": [
    "vif_data"
   ]
  },
  {
   "cell_type": "code",
   "execution_count": 68,
   "id": "16b73821",
   "metadata": {},
   "outputs": [],
   "source": [
    "y_pred= -0.0631 -0.0047*data['Real Interest Rate'][0:25]  -10.0153*data['Political Stability'][:25] + 3.99e-11* data['GDP'][:25]"
   ]
  },
  {
   "cell_type": "markdown",
   "id": "3a29e6a2",
   "metadata": {},
   "source": [
    "#### Evaluating the Model"
   ]
  },
  {
   "cell_type": "code",
   "execution_count": 69,
   "id": "ac57c655",
   "metadata": {},
   "outputs": [],
   "source": [
    "from sklearn.metrics import r2_score, mean_absolute_error , mean_squared_error"
   ]
  },
  {
   "cell_type": "code",
   "execution_count": 70,
   "id": "4f1411a9",
   "metadata": {},
   "outputs": [
    {
     "data": {
      "text/plain": [
       "0.7316462367726344"
      ]
     },
     "execution_count": 70,
     "metadata": {},
     "output_type": "execute_result"
    }
   ],
   "source": [
    "r2_score(y_pred,y)"
   ]
  },
  {
   "cell_type": "code",
   "execution_count": 71,
   "id": "2335de2e",
   "metadata": {},
   "outputs": [
    {
     "data": {
      "text/plain": [
       "4.049284548514799"
      ]
     },
     "execution_count": 71,
     "metadata": {},
     "output_type": "execute_result"
    }
   ],
   "source": [
    "RMSE = np.sqrt(mean_squared_error(y_pred,y))\n",
    "RMSE"
   ]
  },
  {
   "cell_type": "code",
   "execution_count": 72,
   "id": "67f051b4",
   "metadata": {},
   "outputs": [
    {
     "data": {
      "text/plain": [
       "2.449119468944952"
      ]
     },
     "execution_count": 72,
     "metadata": {},
     "output_type": "execute_result"
    }
   ],
   "source": [
    "MSE = mean_absolute_error(y_pred,y)\n",
    "MSE"
   ]
  },
  {
   "cell_type": "markdown",
   "id": "ffd1d580",
   "metadata": {},
   "source": [
    "## Forecasting Using Model-5 (Using everything except Balance of Payment)"
   ]
  },
  {
   "cell_type": "code",
   "execution_count": 73,
   "id": "1a8b01a8",
   "metadata": {},
   "outputs": [],
   "source": [
    "import statsmodels.api as sm"
   ]
  },
  {
   "cell_type": "code",
   "execution_count": 74,
   "id": "6d718d54",
   "metadata": {},
   "outputs": [
    {
     "data": {
      "text/html": [
       "<div>\n",
       "<style scoped>\n",
       "    .dataframe tbody tr th:only-of-type {\n",
       "        vertical-align: middle;\n",
       "    }\n",
       "\n",
       "    .dataframe tbody tr th {\n",
       "        vertical-align: top;\n",
       "    }\n",
       "\n",
       "    .dataframe thead th {\n",
       "        text-align: right;\n",
       "    }\n",
       "</style>\n",
       "<table border=\"1\" class=\"dataframe\">\n",
       "  <thead>\n",
       "    <tr style=\"text-align: right;\">\n",
       "      <th></th>\n",
       "      <th>YEAR</th>\n",
       "      <th>Balance Of Payment</th>\n",
       "      <th>GDP</th>\n",
       "      <th>Political Stability</th>\n",
       "      <th>Real Interest Rate</th>\n",
       "      <th>Exchange Rate</th>\n",
       "      <th>Differential Inflation</th>\n",
       "    </tr>\n",
       "  </thead>\n",
       "  <tbody>\n",
       "    <tr>\n",
       "      <th>0</th>\n",
       "      <td>1996</td>\n",
       "      <td>-1184000000</td>\n",
       "      <td>4.460000e+10</td>\n",
       "      <td>-0.150</td>\n",
       "      <td>8.268450</td>\n",
       "      <td>1.829469</td>\n",
       "      <td>-77.394296</td>\n",
       "    </tr>\n",
       "    <tr>\n",
       "      <th>1</th>\n",
       "      <td>1997</td>\n",
       "      <td>-1335000000</td>\n",
       "      <td>5.020000e+10</td>\n",
       "      <td>-0.135</td>\n",
       "      <td>26.291076</td>\n",
       "      <td>1.861658</td>\n",
       "      <td>-13.602910</td>\n",
       "    </tr>\n",
       "    <tr>\n",
       "      <th>2</th>\n",
       "      <td>1998</td>\n",
       "      <td>-1296000000</td>\n",
       "      <td>4.190000e+10</td>\n",
       "      <td>-0.120</td>\n",
       "      <td>37.928652</td>\n",
       "      <td>2.449542</td>\n",
       "      <td>-9.024881</td>\n",
       "    </tr>\n",
       "  </tbody>\n",
       "</table>\n",
       "</div>"
      ],
      "text/plain": [
       "   YEAR  Balance Of Payment           GDP  Political Stability  \\\n",
       "0  1996         -1184000000  4.460000e+10               -0.150   \n",
       "1  1997         -1335000000  5.020000e+10               -0.135   \n",
       "2  1998         -1296000000  4.190000e+10               -0.120   \n",
       "\n",
       "   Real Interest Rate  Exchange Rate  Differential Inflation  \n",
       "0            8.268450       1.829469              -77.394296  \n",
       "1           26.291076       1.861658              -13.602910  \n",
       "2           37.928652       2.449542               -9.024881  "
      ]
     },
     "execution_count": 74,
     "metadata": {},
     "output_type": "execute_result"
    }
   ],
   "source": [
    "data.head(3)"
   ]
  },
  {
   "cell_type": "code",
   "execution_count": 75,
   "id": "59d9e22a",
   "metadata": {},
   "outputs": [],
   "source": [
    "X=data[['Real Interest Rate','Political Stability', 'GDP', 'Differential Inflation']][:25]"
   ]
  },
  {
   "cell_type": "code",
   "execution_count": 76,
   "id": "4cb14950",
   "metadata": {},
   "outputs": [],
   "source": [
    "y = data[['Exchange Rate']][:25]"
   ]
  },
  {
   "cell_type": "code",
   "execution_count": 77,
   "id": "837a8d71",
   "metadata": {},
   "outputs": [
    {
     "data": {
      "text/html": [
       "<div>\n",
       "<style scoped>\n",
       "    .dataframe tbody tr th:only-of-type {\n",
       "        vertical-align: middle;\n",
       "    }\n",
       "\n",
       "    .dataframe tbody tr th {\n",
       "        vertical-align: top;\n",
       "    }\n",
       "\n",
       "    .dataframe thead th {\n",
       "        text-align: right;\n",
       "    }\n",
       "</style>\n",
       "<table border=\"1\" class=\"dataframe\">\n",
       "  <thead>\n",
       "    <tr style=\"text-align: right;\">\n",
       "      <th></th>\n",
       "      <th>Real Interest Rate</th>\n",
       "      <th>Political Stability</th>\n",
       "      <th>GDP</th>\n",
       "      <th>Differential Inflation</th>\n",
       "    </tr>\n",
       "  </thead>\n",
       "  <tbody>\n",
       "    <tr>\n",
       "      <th>0</th>\n",
       "      <td>8.268450</td>\n",
       "      <td>-0.150</td>\n",
       "      <td>4.460000e+10</td>\n",
       "      <td>-77.394296</td>\n",
       "    </tr>\n",
       "    <tr>\n",
       "      <th>1</th>\n",
       "      <td>26.291076</td>\n",
       "      <td>-0.135</td>\n",
       "      <td>5.020000e+10</td>\n",
       "      <td>-13.602910</td>\n",
       "    </tr>\n",
       "    <tr>\n",
       "      <th>2</th>\n",
       "      <td>37.928652</td>\n",
       "      <td>-0.120</td>\n",
       "      <td>4.190000e+10</td>\n",
       "      <td>-9.024881</td>\n",
       "    </tr>\n",
       "  </tbody>\n",
       "</table>\n",
       "</div>"
      ],
      "text/plain": [
       "   Real Interest Rate  Political Stability           GDP  \\\n",
       "0            8.268450               -0.150  4.460000e+10   \n",
       "1           26.291076               -0.135  5.020000e+10   \n",
       "2           37.928652               -0.120  4.190000e+10   \n",
       "\n",
       "   Differential Inflation  \n",
       "0              -77.394296  \n",
       "1              -13.602910  \n",
       "2               -9.024881  "
      ]
     },
     "execution_count": 77,
     "metadata": {},
     "output_type": "execute_result"
    }
   ],
   "source": [
    "X.head(3)"
   ]
  },
  {
   "cell_type": "code",
   "execution_count": 78,
   "id": "32cc242f",
   "metadata": {},
   "outputs": [
    {
     "name": "stderr",
     "output_type": "stream",
     "text": [
      "C:\\Users\\bhuvn\\anaconda3\\lib\\site-packages\\statsmodels\\tsa\\tsatools.py:142: FutureWarning: In a future version of pandas all arguments of concat except for the argument 'objs' will be keyword-only\n",
      "  x = pd.concat(x[::order], 1)\n"
     ]
    },
    {
     "data": {
      "text/plain": [
       "array([ 1.24731102e+00, -2.78982673e-02, -1.00060507e+01,  3.35295459e-11,\n",
       "        3.57530653e-02])"
      ]
     },
     "execution_count": 78,
     "metadata": {},
     "output_type": "execute_result"
    }
   ],
   "source": [
    "x = sm.add_constant(X)\n",
    "model = sm.OLS(y,x)\n",
    "model1 = model.fit()\n",
    "np.array(model1.params)"
   ]
  },
  {
   "cell_type": "code",
   "execution_count": 79,
   "id": "c95f1951",
   "metadata": {},
   "outputs": [
    {
     "data": {
      "text/html": [
       "<table class=\"simpletable\">\n",
       "<caption>OLS Regression Results</caption>\n",
       "<tr>\n",
       "  <th>Dep. Variable:</th>      <td>Exchange Rate</td>  <th>  R-squared:         </th> <td>   0.792</td>\n",
       "</tr>\n",
       "<tr>\n",
       "  <th>Model:</th>                   <td>OLS</td>       <th>  Adj. R-squared:    </th> <td>   0.750</td>\n",
       "</tr>\n",
       "<tr>\n",
       "  <th>Method:</th>             <td>Least Squares</td>  <th>  F-statistic:       </th> <td>   19.01</td>\n",
       "</tr>\n",
       "<tr>\n",
       "  <th>Date:</th>             <td>Fri, 08 Jul 2022</td> <th>  Prob (F-statistic):</th> <td>1.37e-06</td>\n",
       "</tr>\n",
       "<tr>\n",
       "  <th>Time:</th>                 <td>15:08:09</td>     <th>  Log-Likelihood:    </th> <td> -70.238</td>\n",
       "</tr>\n",
       "<tr>\n",
       "  <th>No. Observations:</th>      <td>    25</td>      <th>  AIC:               </th> <td>   150.5</td>\n",
       "</tr>\n",
       "<tr>\n",
       "  <th>Df Residuals:</th>          <td>    20</td>      <th>  BIC:               </th> <td>   156.6</td>\n",
       "</tr>\n",
       "<tr>\n",
       "  <th>Df Model:</th>              <td>     4</td>      <th>                     </th>     <td> </td>   \n",
       "</tr>\n",
       "<tr>\n",
       "  <th>Covariance Type:</th>      <td>nonrobust</td>    <th>                     </th>     <td> </td>   \n",
       "</tr>\n",
       "</table>\n",
       "<table class=\"simpletable\">\n",
       "<tr>\n",
       "             <td></td>               <th>coef</th>     <th>std err</th>      <th>t</th>      <th>P>|t|</th>  <th>[0.025</th>    <th>0.975]</th>  \n",
       "</tr>\n",
       "<tr>\n",
       "  <th>const</th>                  <td>    1.2473</td> <td>    3.652</td> <td>    0.342</td> <td> 0.736</td> <td>   -6.370</td> <td>    8.865</td>\n",
       "</tr>\n",
       "<tr>\n",
       "  <th>Real Interest Rate</th>     <td>   -0.0279</td> <td>    0.103</td> <td>   -0.270</td> <td> 0.790</td> <td>   -0.243</td> <td>    0.187</td>\n",
       "</tr>\n",
       "<tr>\n",
       "  <th>Political Stability</th>    <td>  -10.0061</td> <td>    1.300</td> <td>   -7.700</td> <td> 0.000</td> <td>  -12.717</td> <td>   -7.295</td>\n",
       "</tr>\n",
       "<tr>\n",
       "  <th>GDP</th>                    <td> 3.353e-11</td> <td> 2.29e-11</td> <td>    1.465</td> <td> 0.158</td> <td>-1.42e-11</td> <td> 8.13e-11</td>\n",
       "</tr>\n",
       "<tr>\n",
       "  <th>Differential Inflation</th> <td>    0.0358</td> <td>    0.063</td> <td>    0.567</td> <td> 0.577</td> <td>   -0.096</td> <td>    0.167</td>\n",
       "</tr>\n",
       "</table>\n",
       "<table class=\"simpletable\">\n",
       "<tr>\n",
       "  <th>Omnibus:</th>       <td>15.474</td> <th>  Durbin-Watson:     </th> <td>   0.792</td>\n",
       "</tr>\n",
       "<tr>\n",
       "  <th>Prob(Omnibus):</th> <td> 0.000</td> <th>  Jarque-Bera (JB):  </th> <td>  22.193</td>\n",
       "</tr>\n",
       "<tr>\n",
       "  <th>Skew:</th>          <td>-1.180</td> <th>  Prob(JB):          </th> <td>1.52e-05</td>\n",
       "</tr>\n",
       "<tr>\n",
       "  <th>Kurtosis:</th>      <td> 6.967</td> <th>  Cond. No.          </th> <td>4.79e+11</td>\n",
       "</tr>\n",
       "</table><br/><br/>Notes:<br/>[1] Standard Errors assume that the covariance matrix of the errors is correctly specified.<br/>[2] The condition number is large, 4.79e+11. This might indicate that there are<br/>strong multicollinearity or other numerical problems."
      ],
      "text/plain": [
       "<class 'statsmodels.iolib.summary.Summary'>\n",
       "\"\"\"\n",
       "                            OLS Regression Results                            \n",
       "==============================================================================\n",
       "Dep. Variable:          Exchange Rate   R-squared:                       0.792\n",
       "Model:                            OLS   Adj. R-squared:                  0.750\n",
       "Method:                 Least Squares   F-statistic:                     19.01\n",
       "Date:                Fri, 08 Jul 2022   Prob (F-statistic):           1.37e-06\n",
       "Time:                        15:08:09   Log-Likelihood:                -70.238\n",
       "No. Observations:                  25   AIC:                             150.5\n",
       "Df Residuals:                      20   BIC:                             156.6\n",
       "Df Model:                           4                                         \n",
       "Covariance Type:            nonrobust                                         \n",
       "==========================================================================================\n",
       "                             coef    std err          t      P>|t|      [0.025      0.975]\n",
       "------------------------------------------------------------------------------------------\n",
       "const                      1.2473      3.652      0.342      0.736      -6.370       8.865\n",
       "Real Interest Rate        -0.0279      0.103     -0.270      0.790      -0.243       0.187\n",
       "Political Stability      -10.0061      1.300     -7.700      0.000     -12.717      -7.295\n",
       "GDP                     3.353e-11   2.29e-11      1.465      0.158   -1.42e-11    8.13e-11\n",
       "Differential Inflation     0.0358      0.063      0.567      0.577      -0.096       0.167\n",
       "==============================================================================\n",
       "Omnibus:                       15.474   Durbin-Watson:                   0.792\n",
       "Prob(Omnibus):                  0.000   Jarque-Bera (JB):               22.193\n",
       "Skew:                          -1.180   Prob(JB):                     1.52e-05\n",
       "Kurtosis:                       6.967   Cond. No.                     4.79e+11\n",
       "==============================================================================\n",
       "\n",
       "Notes:\n",
       "[1] Standard Errors assume that the covariance matrix of the errors is correctly specified.\n",
       "[2] The condition number is large, 4.79e+11. This might indicate that there are\n",
       "strong multicollinearity or other numerical problems.\n",
       "\"\"\""
      ]
     },
     "execution_count": 79,
     "metadata": {},
     "output_type": "execute_result"
    }
   ],
   "source": [
    "model1.summary()"
   ]
  },
  {
   "cell_type": "markdown",
   "id": "0b85e958",
   "metadata": {},
   "source": [
    "#### Finding VIF"
   ]
  },
  {
   "cell_type": "code",
   "execution_count": 80,
   "id": "ad560fee",
   "metadata": {},
   "outputs": [],
   "source": [
    "from statsmodels.stats.outliers_influence import variance_inflation_factor"
   ]
  },
  {
   "cell_type": "code",
   "execution_count": 81,
   "id": "e6ab9b6a",
   "metadata": {},
   "outputs": [],
   "source": [
    "vif_data = pd.DataFrame()\n",
    "vif_data[\"feature\"] = X.columns\n",
    "  \n",
    "# calculating VIF for each feature\n",
    "vif_data[\"VIF\"] = [variance_inflation_factor(X.values, i)\n",
    "                          for i in range(len(X.columns))]"
   ]
  },
  {
   "cell_type": "code",
   "execution_count": 82,
   "id": "8e865114",
   "metadata": {},
   "outputs": [
    {
     "data": {
      "text/html": [
       "<div>\n",
       "<style scoped>\n",
       "    .dataframe tbody tr th:only-of-type {\n",
       "        vertical-align: middle;\n",
       "    }\n",
       "\n",
       "    .dataframe tbody tr th {\n",
       "        vertical-align: top;\n",
       "    }\n",
       "\n",
       "    .dataframe thead th {\n",
       "        text-align: right;\n",
       "    }\n",
       "</style>\n",
       "<table border=\"1\" class=\"dataframe\">\n",
       "  <thead>\n",
       "    <tr style=\"text-align: right;\">\n",
       "      <th></th>\n",
       "      <th>feature</th>\n",
       "      <th>VIF</th>\n",
       "    </tr>\n",
       "  </thead>\n",
       "  <tbody>\n",
       "    <tr>\n",
       "      <th>0</th>\n",
       "      <td>Real Interest Rate</td>\n",
       "      <td>1.088365</td>\n",
       "    </tr>\n",
       "    <tr>\n",
       "      <th>1</th>\n",
       "      <td>Political Stability</td>\n",
       "      <td>1.785205</td>\n",
       "    </tr>\n",
       "    <tr>\n",
       "      <th>2</th>\n",
       "      <td>GDP</td>\n",
       "      <td>1.841328</td>\n",
       "    </tr>\n",
       "    <tr>\n",
       "      <th>3</th>\n",
       "      <td>Differential Inflation</td>\n",
       "      <td>1.343326</td>\n",
       "    </tr>\n",
       "  </tbody>\n",
       "</table>\n",
       "</div>"
      ],
      "text/plain": [
       "                  feature       VIF\n",
       "0      Real Interest Rate  1.088365\n",
       "1     Political Stability  1.785205\n",
       "2                     GDP  1.841328\n",
       "3  Differential Inflation  1.343326"
      ]
     },
     "execution_count": 82,
     "metadata": {},
     "output_type": "execute_result"
    }
   ],
   "source": [
    "vif_data"
   ]
  },
  {
   "cell_type": "code",
   "execution_count": 83,
   "id": "16b73821",
   "metadata": {},
   "outputs": [],
   "source": [
    "y_pred= 1.2473 -0.0279*data['Real Interest Rate'][0:25]  -10.0061*data['Political Stability'][:25] + 3.353e-11* data['GDP'][:25] + 0.0358 * data['Differential Inflation'][:25]"
   ]
  },
  {
   "cell_type": "markdown",
   "id": "3a29e6a2",
   "metadata": {},
   "source": [
    "#### Evaluating the Model"
   ]
  },
  {
   "cell_type": "code",
   "execution_count": 84,
   "id": "ac57c655",
   "metadata": {},
   "outputs": [],
   "source": [
    "from sklearn.metrics import r2_score, mean_absolute_error , mean_squared_error"
   ]
  },
  {
   "cell_type": "code",
   "execution_count": 85,
   "id": "4f1411a9",
   "metadata": {},
   "outputs": [
    {
     "data": {
      "text/plain": [
       "0.7370152587822301"
      ]
     },
     "execution_count": 85,
     "metadata": {},
     "output_type": "execute_result"
    }
   ],
   "source": [
    "r2_score(y_pred,y)"
   ]
  },
  {
   "cell_type": "code",
   "execution_count": 86,
   "id": "2335de2e",
   "metadata": {},
   "outputs": [
    {
     "data": {
      "text/plain": [
       "4.017158169220736"
      ]
     },
     "execution_count": 86,
     "metadata": {},
     "output_type": "execute_result"
    }
   ],
   "source": [
    "RMSE = np.sqrt(mean_squared_error(y_pred,y))\n",
    "RMSE"
   ]
  },
  {
   "cell_type": "code",
   "execution_count": 87,
   "id": "67f051b4",
   "metadata": {},
   "outputs": [
    {
     "data": {
      "text/plain": [
       "2.370206974883816"
      ]
     },
     "execution_count": 87,
     "metadata": {},
     "output_type": "execute_result"
    }
   ],
   "source": [
    "MSE = mean_absolute_error(y_pred,y)\n",
    "MSE"
   ]
  },
  {
   "cell_type": "code",
   "execution_count": null,
   "id": "ab484f1b",
   "metadata": {},
   "outputs": [],
   "source": []
  }
 ],
 "metadata": {
  "kernelspec": {
   "display_name": "Python 3 (ipykernel)",
   "language": "python",
   "name": "python3"
  },
  "language_info": {
   "codemirror_mode": {
    "name": "ipython",
    "version": 3
   },
   "file_extension": ".py",
   "mimetype": "text/x-python",
   "name": "python",
   "nbconvert_exporter": "python",
   "pygments_lexer": "ipython3",
   "version": "3.9.7"
  }
 },
 "nbformat": 4,
 "nbformat_minor": 5
}
